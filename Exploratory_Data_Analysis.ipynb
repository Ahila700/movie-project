{
 "cells": [
  {
   "cell_type": "code",
   "execution_count": 89,
   "metadata": {},
   "outputs": [],
   "source": [
    "import matplotlib.pyplot as plt\n",
    "import pandas as pd\n",
    "import numpy as np\n",
    "%matplotlib inline\n",
    "\n",
    "import seaborn as sns\n",
    "sns.set(context='paper', style='darkgrid', rc={'figure.facecolor':'white'}, font_scale=1.2)"
   ]
  },
  {
   "cell_type": "code",
   "execution_count": 90,
   "metadata": {},
   "outputs": [],
   "source": [
    "game_sales = pd.read_csv('game_sales.csv', index_col = 0)\n",
    "metacritic_reviews = pd.read_csv('metacritic_reviews.csv', index_col = 0)\n",
    "gamespot_reviews = pd.read_csv('gamespot_reviews.csv', index_col = 0)\n",
    "gamespot_w_sales = pd.read_csv('gamespot_w_sales.csv', index_col = 0)\n",
    "metacritic_w_sales = pd.read_csv('metacritic_w_sales.csv', index_col = 0)\n"
   ]
  },
  {
   "cell_type": "code",
   "execution_count": 91,
   "metadata": {},
   "outputs": [],
   "source": [
    "box_office_video_game_movies = pd.read_csv('box_office_video_game_movies.csv', index_col = 0)"
   ]
  },
  {
   "cell_type": "code",
   "execution_count": 92,
   "metadata": {},
   "outputs": [],
   "source": [
    "# metacritic_wo_0 = metacritic_w_sales.loc[metacritic_w_sales['Global'] > 0]"
   ]
  },
  {
   "cell_type": "code",
   "execution_count": 93,
   "metadata": {
    "collapsed": true
   },
   "outputs": [
    {
     "data": {
      "text/html": [
       "<div>\n",
       "<style scoped>\n",
       "    .dataframe tbody tr th:only-of-type {\n",
       "        vertical-align: middle;\n",
       "    }\n",
       "\n",
       "    .dataframe tbody tr th {\n",
       "        vertical-align: top;\n",
       "    }\n",
       "\n",
       "    .dataframe thead th {\n",
       "        text-align: right;\n",
       "    }\n",
       "</style>\n",
       "<table border=\"1\" class=\"dataframe\">\n",
       "  <thead>\n",
       "    <tr style=\"text-align: right;\">\n",
       "      <th></th>\n",
       "      <th>Game</th>\n",
       "      <th>metacritic_score</th>\n",
       "      <th>metacritic_review_count</th>\n",
       "      <th>user_score</th>\n",
       "      <th>user_review_count</th>\n",
       "      <th>content_rating</th>\n",
       "      <th>genres</th>\n",
       "      <th>release_year</th>\n",
       "      <th>Publisher</th>\n",
       "      <th>global_unit_sales</th>\n",
       "    </tr>\n",
       "  </thead>\n",
       "  <tbody>\n",
       "    <tr>\n",
       "      <th>0</th>\n",
       "      <td>Red Dead Redemption 2</td>\n",
       "      <td>97</td>\n",
       "      <td>33</td>\n",
       "      <td>7.7</td>\n",
       "      <td>2413.0</td>\n",
       "      <td>M</td>\n",
       "      <td>['Action Adventure', ' Open-World']</td>\n",
       "      <td>2018</td>\n",
       "      <td>Rockstar Games</td>\n",
       "      <td>5.77</td>\n",
       "    </tr>\n",
       "    <tr>\n",
       "      <th>1</th>\n",
       "      <td>Metal Gear Solid V: The Phantom Pain</td>\n",
       "      <td>95</td>\n",
       "      <td>10</td>\n",
       "      <td>7.4</td>\n",
       "      <td>1111.0</td>\n",
       "      <td>M</td>\n",
       "      <td>['Modern', ' Modern', ' Action Adventure', ' O...</td>\n",
       "      <td>2015</td>\n",
       "      <td>Konami Digital Entertainment</td>\n",
       "      <td>0.83</td>\n",
       "    </tr>\n",
       "    <tr>\n",
       "      <th>2</th>\n",
       "      <td>Inside</td>\n",
       "      <td>93</td>\n",
       "      <td>87</td>\n",
       "      <td>8.3</td>\n",
       "      <td>629.0</td>\n",
       "      <td>M</td>\n",
       "      <td>['Action', ' Platformer', ' 2D']</td>\n",
       "      <td>2016</td>\n",
       "      <td>NaN</td>\n",
       "      <td>0.00</td>\n",
       "    </tr>\n",
       "    <tr>\n",
       "      <th>3</th>\n",
       "      <td>The Witcher 3: Wild Hunt</td>\n",
       "      <td>91</td>\n",
       "      <td>13</td>\n",
       "      <td>9.2</td>\n",
       "      <td>4585.0</td>\n",
       "      <td>M</td>\n",
       "      <td>['Action RPG', ' Role-Playing', ' Action RPG']</td>\n",
       "      <td>2015</td>\n",
       "      <td>Namco Bandai Games</td>\n",
       "      <td>1.74</td>\n",
       "    </tr>\n",
       "    <tr>\n",
       "      <th>4</th>\n",
       "      <td>Rayman Legends</td>\n",
       "      <td>91</td>\n",
       "      <td>6</td>\n",
       "      <td>7.9</td>\n",
       "      <td>243.0</td>\n",
       "      <td>E10+</td>\n",
       "      <td>['Platformer', ' 2D', ' Action', ' Platformer'...</td>\n",
       "      <td>2014</td>\n",
       "      <td>Ubisoft</td>\n",
       "      <td>0.38</td>\n",
       "    </tr>\n",
       "    <tr>\n",
       "      <th>...</th>\n",
       "      <td>...</td>\n",
       "      <td>...</td>\n",
       "      <td>...</td>\n",
       "      <td>...</td>\n",
       "      <td>...</td>\n",
       "      <td>...</td>\n",
       "      <td>...</td>\n",
       "      <td>...</td>\n",
       "      <td>...</td>\n",
       "      <td>...</td>\n",
       "    </tr>\n",
       "    <tr>\n",
       "      <th>340</th>\n",
       "      <td>Nba Live 14</td>\n",
       "      <td>36</td>\n",
       "      <td>14</td>\n",
       "      <td>3.1</td>\n",
       "      <td>89.0</td>\n",
       "      <td>E</td>\n",
       "      <td>['Arcade', ' Sports', ' Traditional', ' Team',...</td>\n",
       "      <td>2013</td>\n",
       "      <td>EA Sports</td>\n",
       "      <td>0.24</td>\n",
       "    </tr>\n",
       "    <tr>\n",
       "      <th>341</th>\n",
       "      <td>Fru</td>\n",
       "      <td>84</td>\n",
       "      <td>24</td>\n",
       "      <td>6.8</td>\n",
       "      <td>37.0</td>\n",
       "      <td>E</td>\n",
       "      <td>['Miscellaneous', ' Puzzle', ' Action']</td>\n",
       "      <td>2016</td>\n",
       "      <td>NaN</td>\n",
       "      <td>0.00</td>\n",
       "    </tr>\n",
       "    <tr>\n",
       "      <th>342</th>\n",
       "      <td>Fantasia: Music Evolved</td>\n",
       "      <td>77</td>\n",
       "      <td>48</td>\n",
       "      <td>7.5</td>\n",
       "      <td>70.0</td>\n",
       "      <td>E10+</td>\n",
       "      <td>['Music', ' Action', ' Miscellaneous', ' Rhyth...</td>\n",
       "      <td>2014</td>\n",
       "      <td>Disney Interactive Studios</td>\n",
       "      <td>0.19</td>\n",
       "    </tr>\n",
       "    <tr>\n",
       "      <th>343</th>\n",
       "      <td>The Surge</td>\n",
       "      <td>74</td>\n",
       "      <td>17</td>\n",
       "      <td>7.1</td>\n",
       "      <td>72.0</td>\n",
       "      <td>M</td>\n",
       "      <td>['Role-Playing', ' Action RPG']</td>\n",
       "      <td>2017</td>\n",
       "      <td>Koch Media</td>\n",
       "      <td>0.12</td>\n",
       "    </tr>\n",
       "    <tr>\n",
       "      <th>344</th>\n",
       "      <td>Mount &amp; Blade: Warband</td>\n",
       "      <td>59</td>\n",
       "      <td>10</td>\n",
       "      <td>7.8</td>\n",
       "      <td>40.0</td>\n",
       "      <td>T</td>\n",
       "      <td>['Role-Playing', ' Western-Style']</td>\n",
       "      <td>2016</td>\n",
       "      <td>Koch Media</td>\n",
       "      <td>0.00</td>\n",
       "    </tr>\n",
       "  </tbody>\n",
       "</table>\n",
       "<p>345 rows × 10 columns</p>\n",
       "</div>"
      ],
      "text/plain": [
       "                                     Game  metacritic_score  \\\n",
       "0                   Red Dead Redemption 2                97   \n",
       "1    Metal Gear Solid V: The Phantom Pain                95   \n",
       "2                                  Inside                93   \n",
       "3                The Witcher 3: Wild Hunt                91   \n",
       "4                          Rayman Legends                91   \n",
       "..                                    ...               ...   \n",
       "340                           Nba Live 14                36   \n",
       "341                                   Fru                84   \n",
       "342               Fantasia: Music Evolved                77   \n",
       "343                             The Surge                74   \n",
       "344                Mount & Blade: Warband                59   \n",
       "\n",
       "     metacritic_review_count  user_score  user_review_count content_rating  \\\n",
       "0                         33         7.7             2413.0              M   \n",
       "1                         10         7.4             1111.0              M   \n",
       "2                         87         8.3              629.0              M   \n",
       "3                         13         9.2             4585.0              M   \n",
       "4                          6         7.9              243.0           E10+   \n",
       "..                       ...         ...                ...            ...   \n",
       "340                       14         3.1               89.0              E   \n",
       "341                       24         6.8               37.0              E   \n",
       "342                       48         7.5               70.0           E10+   \n",
       "343                       17         7.1               72.0              M   \n",
       "344                       10         7.8               40.0              T   \n",
       "\n",
       "                                                genres  release_year  \\\n",
       "0                  ['Action Adventure', ' Open-World']          2018   \n",
       "1    ['Modern', ' Modern', ' Action Adventure', ' O...          2015   \n",
       "2                     ['Action', ' Platformer', ' 2D']          2016   \n",
       "3       ['Action RPG', ' Role-Playing', ' Action RPG']          2015   \n",
       "4    ['Platformer', ' 2D', ' Action', ' Platformer'...          2014   \n",
       "..                                                 ...           ...   \n",
       "340  ['Arcade', ' Sports', ' Traditional', ' Team',...          2013   \n",
       "341            ['Miscellaneous', ' Puzzle', ' Action']          2016   \n",
       "342  ['Music', ' Action', ' Miscellaneous', ' Rhyth...          2014   \n",
       "343                    ['Role-Playing', ' Action RPG']          2017   \n",
       "344                 ['Role-Playing', ' Western-Style']          2016   \n",
       "\n",
       "                        Publisher  global_unit_sales  \n",
       "0                  Rockstar Games               5.77  \n",
       "1    Konami Digital Entertainment               0.83  \n",
       "2                             NaN               0.00  \n",
       "3              Namco Bandai Games               1.74  \n",
       "4                         Ubisoft               0.38  \n",
       "..                            ...                ...  \n",
       "340                     EA Sports               0.24  \n",
       "341                           NaN               0.00  \n",
       "342    Disney Interactive Studios               0.19  \n",
       "343                    Koch Media               0.12  \n",
       "344                    Koch Media               0.00  \n",
       "\n",
       "[345 rows x 10 columns]"
      ]
     },
     "execution_count": 93,
     "metadata": {},
     "output_type": "execute_result"
    }
   ],
   "source": [
    "metacritic_w_sales"
   ]
  },
  {
   "cell_type": "code",
   "execution_count": 95,
   "metadata": {
    "scrolled": false
   },
   "outputs": [
    {
     "data": {
      "image/png": "[encoded data removed]",
      "text/plain": [
       "<Figure size 432x288 with 1 Axes>"
      ]
     },
     "metadata": {},
     "output_type": "display_data"
    }
   ],
   "source": [
    "# plot one - publisher by gobal sales\n",
    "\n",
    "publisher_sales = metacritic_w_sales.groupby('Publisher')['global_unit_sales'].describe().sort_values('count', ascending = False)[0:20]    \n",
    "\n",
    "ax = publisher_sales.plot.bar(y = 'mean')\n",
    "ax.set_ylabel('Unit sales in Millions')\n",
    "ax.set_xlabel('Publisher')\n",
    "ax.set_title('Top 20 Publishers vs Sales')\n",
    "\n",
    "plt.savefig('.png')"
   ]
  },
  {
   "cell_type": "code",
   "execution_count": 109,
   "metadata": {},
   "outputs": [
    {
     "data": {
      "image/png": "[encoded data removed]",
      "text/plain": [
       "<Figure size 432x288 with 1 Axes>"
      ]
     },
     "metadata": {},
     "output_type": "display_data"
    }
   ],
   "source": [
    "fig, ax = plt.subplots()\n",
    "\n",
    "# Add data: \"height\", \"weight\" as x-y, index as color\n",
    "ax.scatter(metacritic_w_sales['global_unit_sales'], metacritic_w_sales['user_score'])\n",
    "\n",
    "ax.set_xlabel(\"Unit sales in Millions\")\n",
    "ax.set_ylabel(\"Average User Score\")\n",
    "ax.set_title('Relationship between User Score and Sales')\n",
    "\n",
    "\n",
    "plt.show()\n",
    "\n",
    "plt.savefig('.png')"
   ]
  },
  {
   "cell_type": "code",
   "execution_count": 110,
   "metadata": {},
   "outputs": [
    {
     "data": {
      "text/html": [
       "<div>\n",
       "<style scoped>\n",
       "    .dataframe tbody tr th:only-of-type {\n",
       "        vertical-align: middle;\n",
       "    }\n",
       "\n",
       "    .dataframe tbody tr th {\n",
       "        vertical-align: top;\n",
       "    }\n",
       "\n",
       "    .dataframe thead th {\n",
       "        text-align: right;\n",
       "    }\n",
       "</style>\n",
       "<table border=\"1\" class=\"dataframe\">\n",
       "  <thead>\n",
       "    <tr style=\"text-align: right;\">\n",
       "      <th></th>\n",
       "      <th>global_unit_sales</th>\n",
       "      <th>user_score</th>\n",
       "    </tr>\n",
       "  </thead>\n",
       "  <tbody>\n",
       "    <tr>\n",
       "      <th>global_unit_sales</th>\n",
       "      <td>1.000000</td>\n",
       "      <td>-0.055728</td>\n",
       "    </tr>\n",
       "    <tr>\n",
       "      <th>user_score</th>\n",
       "      <td>-0.055728</td>\n",
       "      <td>1.000000</td>\n",
       "    </tr>\n",
       "  </tbody>\n",
       "</table>\n",
       "</div>"
      ],
      "text/plain": [
       "                   global_unit_sales  user_score\n",
       "global_unit_sales           1.000000   -0.055728\n",
       "user_score                 -0.055728    1.000000"
      ]
     },
     "execution_count": 110,
     "metadata": {},
     "output_type": "execute_result"
    }
   ],
   "source": [
    "metacritic_w_sales[['global_unit_sales', 'user_score']].corr()"
   ]
  },
  {
   "cell_type": "code",
   "execution_count": 111,
   "metadata": {},
   "outputs": [
    {
     "data": {
      "image/png": "[encoded data removed]",
      "text/plain": [
       "<Figure size 432x288 with 1 Axes>"
      ]
     },
     "metadata": {},
     "output_type": "display_data"
    }
   ],
   "source": [
    "fig, ax = plt.subplots()\n",
    "\n",
    "# Add data: \"height\", \"weight\" as x-y, index as color\n",
    "ax.scatter(metacritic_w_sales['global_unit_sales'], metacritic_w_sales['user_review_count'])\n",
    "\n",
    "ax.set_xlabel(\"Unit sales in Millions\")\n",
    "ax.set_ylabel(\"Average User Review Count\")\n",
    "ax.set_title('Relationship between User Score and Sales')\n",
    "\n",
    "\n",
    "plt.show()"
   ]
  },
  {
   "cell_type": "code",
   "execution_count": 112,
   "metadata": {},
   "outputs": [
    {
     "data": {
      "text/html": [
       "<div>\n",
       "<style scoped>\n",
       "    .dataframe tbody tr th:only-of-type {\n",
       "        vertical-align: middle;\n",
       "    }\n",
       "\n",
       "    .dataframe tbody tr th {\n",
       "        vertical-align: top;\n",
       "    }\n",
       "\n",
       "    .dataframe thead th {\n",
       "        text-align: right;\n",
       "    }\n",
       "</style>\n",
       "<table border=\"1\" class=\"dataframe\">\n",
       "  <thead>\n",
       "    <tr style=\"text-align: right;\">\n",
       "      <th></th>\n",
       "      <th>global_unit_sales</th>\n",
       "      <th>user_review_count</th>\n",
       "    </tr>\n",
       "  </thead>\n",
       "  <tbody>\n",
       "    <tr>\n",
       "      <th>global_unit_sales</th>\n",
       "      <td>1.000000</td>\n",
       "      <td>0.578905</td>\n",
       "    </tr>\n",
       "    <tr>\n",
       "      <th>user_review_count</th>\n",
       "      <td>0.578905</td>\n",
       "      <td>1.000000</td>\n",
       "    </tr>\n",
       "  </tbody>\n",
       "</table>\n",
       "</div>"
      ],
      "text/plain": [
       "                   global_unit_sales  user_review_count\n",
       "global_unit_sales           1.000000           0.578905\n",
       "user_review_count           0.578905           1.000000"
      ]
     },
     "execution_count": 112,
     "metadata": {},
     "output_type": "execute_result"
    }
   ],
   "source": [
    "metacritic_w_sales[['global_unit_sales', 'user_review_count']].corr()"
   ]
  },
  {
   "cell_type": "code",
   "execution_count": 113,
   "metadata": {},
   "outputs": [],
   "source": [
    "# based on the graphs above we came to the following conclusions\n",
    "\n",
    "# for the publishers bar chart we saw that the 20 most popular publishers had no real correlation\n",
    "# to the sales of their games. Some sold well and others didnt\n",
    "\n",
    "# for the 2 scatter plots we saw that the amount of users who reviewed the game heavily correlated\n",
    "# to sales for the game whereas the actual rating those users gave it had much less correlation"
   ]
  },
  {
   "cell_type": "code",
   "execution_count": 114,
   "metadata": {},
   "outputs": [
    {
     "data": {
      "image/png": "[encoded data removed]",
      "text/plain": [
       "<Figure size 432x288 with 1 Axes>"
      ]
     },
     "metadata": {},
     "output_type": "display_data"
    }
   ],
   "source": [
    "fig, ax = plt.subplots()\n",
    "\n",
    "# Add data: \"height\", \"weight\" as x-y, index as color\n",
    "ax.scatter(metacritic_w_sales['global_unit_sales'], metacritic_w_sales['metacritic_score'])\n",
    "\n",
    "ax.set_xlabel(\"Unit sales in Millions\")\n",
    "ax.set_ylabel(\"Average Critic Score (Metacritic)\")\n",
    "ax.set_title('Relationship between Critic Score and Sales')\n",
    "\n",
    "\n",
    "plt.show()"
   ]
  },
  {
   "cell_type": "code",
   "execution_count": 115,
   "metadata": {},
   "outputs": [
    {
     "data": {
      "text/html": [
       "<div>\n",
       "<style scoped>\n",
       "    .dataframe tbody tr th:only-of-type {\n",
       "        vertical-align: middle;\n",
       "    }\n",
       "\n",
       "    .dataframe tbody tr th {\n",
       "        vertical-align: top;\n",
       "    }\n",
       "\n",
       "    .dataframe thead th {\n",
       "        text-align: right;\n",
       "    }\n",
       "</style>\n",
       "<table border=\"1\" class=\"dataframe\">\n",
       "  <thead>\n",
       "    <tr style=\"text-align: right;\">\n",
       "      <th></th>\n",
       "      <th>global_unit_sales</th>\n",
       "      <th>metacritic_score</th>\n",
       "    </tr>\n",
       "  </thead>\n",
       "  <tbody>\n",
       "    <tr>\n",
       "      <th>global_unit_sales</th>\n",
       "      <td>1.000000</td>\n",
       "      <td>0.398667</td>\n",
       "    </tr>\n",
       "    <tr>\n",
       "      <th>metacritic_score</th>\n",
       "      <td>0.398667</td>\n",
       "      <td>1.000000</td>\n",
       "    </tr>\n",
       "  </tbody>\n",
       "</table>\n",
       "</div>"
      ],
      "text/plain": [
       "                   global_unit_sales  metacritic_score\n",
       "global_unit_sales           1.000000          0.398667\n",
       "metacritic_score            0.398667          1.000000"
      ]
     },
     "execution_count": 115,
     "metadata": {},
     "output_type": "execute_result"
    }
   ],
   "source": [
    "metacritic_w_sales[['global_unit_sales', 'metacritic_score']].corr()"
   ]
  },
  {
   "cell_type": "code",
   "execution_count": 116,
   "metadata": {},
   "outputs": [
    {
     "data": {
      "image/png": "[encoded data removed]",
      "text/plain": [
       "<Figure size 432x288 with 1 Axes>"
      ]
     },
     "metadata": {},
     "output_type": "display_data"
    }
   ],
   "source": [
    "fig, ax = plt.subplots()\n",
    "\n",
    "# Add data: \"height\", \"weight\" as x-y, index as color\n",
    "ax.scatter(metacritic_w_sales['global_unit_sales'], metacritic_w_sales['metacritic_review_count'])\n",
    "\n",
    "ax.set_xlabel(\"Unit sales in Millions\")\n",
    "ax.set_ylabel(\"Number of Critic Reviews\")\n",
    "ax.set_title('Relationship between Critic Score and Sales')\n",
    "\n",
    "\n",
    "plt.show()"
   ]
  },
  {
   "cell_type": "code",
   "execution_count": 117,
   "metadata": {},
   "outputs": [
    {
     "data": {
      "text/html": [
       "<div>\n",
       "<style scoped>\n",
       "    .dataframe tbody tr th:only-of-type {\n",
       "        vertical-align: middle;\n",
       "    }\n",
       "\n",
       "    .dataframe tbody tr th {\n",
       "        vertical-align: top;\n",
       "    }\n",
       "\n",
       "    .dataframe thead th {\n",
       "        text-align: right;\n",
       "    }\n",
       "</style>\n",
       "<table border=\"1\" class=\"dataframe\">\n",
       "  <thead>\n",
       "    <tr style=\"text-align: right;\">\n",
       "      <th></th>\n",
       "      <th>global_unit_sales</th>\n",
       "      <th>metacritic_review_count</th>\n",
       "    </tr>\n",
       "  </thead>\n",
       "  <tbody>\n",
       "    <tr>\n",
       "      <th>global_unit_sales</th>\n",
       "      <td>1.000000</td>\n",
       "      <td>0.364567</td>\n",
       "    </tr>\n",
       "    <tr>\n",
       "      <th>metacritic_review_count</th>\n",
       "      <td>0.364567</td>\n",
       "      <td>1.000000</td>\n",
       "    </tr>\n",
       "  </tbody>\n",
       "</table>\n",
       "</div>"
      ],
      "text/plain": [
       "                         global_unit_sales  metacritic_review_count\n",
       "global_unit_sales                 1.000000                 0.364567\n",
       "metacritic_review_count           0.364567                 1.000000"
      ]
     },
     "execution_count": 117,
     "metadata": {},
     "output_type": "execute_result"
    }
   ],
   "source": [
    "metacritic_w_sales[['global_unit_sales', 'metacritic_review_count']].corr()"
   ]
  },
  {
   "cell_type": "code",
   "execution_count": 118,
   "metadata": {},
   "outputs": [
    {
     "data": {
      "image/png": "[encoded data removed]",
      "text/plain": [
       "<Figure size 432x288 with 1 Axes>"
      ]
     },
     "metadata": {},
     "output_type": "display_data"
    }
   ],
   "source": [
    "fig, ax = plt.subplots()\n",
    "\n",
    "# Add data: \"height\", \"weight\" as x-y, index as color\n",
    "ax.scatter(gamespot_w_sales['global_unit_sales'], gamespot_w_sales['score'])\n",
    "\n",
    "ax.set_xlabel(\"Unit sales in Millions\")\n",
    "ax.set_ylabel(\"Average Critic Score (GameSpot)\")\n",
    "ax.set_title('Relationship between Critic Score and Sales')\n",
    "\n",
    "\n",
    "plt.show()"
   ]
  },
  {
   "cell_type": "code",
   "execution_count": 119,
   "metadata": {},
   "outputs": [
    {
     "data": {
      "text/html": [
       "<div>\n",
       "<style scoped>\n",
       "    .dataframe tbody tr th:only-of-type {\n",
       "        vertical-align: middle;\n",
       "    }\n",
       "\n",
       "    .dataframe tbody tr th {\n",
       "        vertical-align: top;\n",
       "    }\n",
       "\n",
       "    .dataframe thead th {\n",
       "        text-align: right;\n",
       "    }\n",
       "</style>\n",
       "<table border=\"1\" class=\"dataframe\">\n",
       "  <thead>\n",
       "    <tr style=\"text-align: right;\">\n",
       "      <th></th>\n",
       "      <th>global_unit_sales</th>\n",
       "      <th>score</th>\n",
       "    </tr>\n",
       "  </thead>\n",
       "  <tbody>\n",
       "    <tr>\n",
       "      <th>global_unit_sales</th>\n",
       "      <td>1.000000</td>\n",
       "      <td>0.298152</td>\n",
       "    </tr>\n",
       "    <tr>\n",
       "      <th>score</th>\n",
       "      <td>0.298152</td>\n",
       "      <td>1.000000</td>\n",
       "    </tr>\n",
       "  </tbody>\n",
       "</table>\n",
       "</div>"
      ],
      "text/plain": [
       "                   global_unit_sales     score\n",
       "global_unit_sales           1.000000  0.298152\n",
       "score                       0.298152  1.000000"
      ]
     },
     "execution_count": 119,
     "metadata": {},
     "output_type": "execute_result"
    }
   ],
   "source": [
    "gamespot_w_sales[['global_unit_sales', 'score']].corr()"
   ]
  },
  {
   "cell_type": "code",
   "execution_count": 120,
   "metadata": {},
   "outputs": [],
   "source": [
    "metacritic_w_users = metacritic_w_sales.loc[metacritic_w_sales['user_review_count'] > 10]"
   ]
  },
  {
   "cell_type": "code",
   "execution_count": 121,
   "metadata": {},
   "outputs": [
    {
     "data": {
      "image/png": "[encoded data removed]",
      "text/plain": [
       "<Figure size 432x288 with 1 Axes>"
      ]
     },
     "metadata": {},
     "output_type": "display_data"
    }
   ],
   "source": [
    "fig, ax = plt.subplots()\n",
    "\n",
    "# Add data: \"height\", \"weight\" as x-y, index as color\n",
    "ax.scatter(metacritic_w_users['global_unit_sales'], metacritic_w_users['metacritic_score'])\n",
    "\n",
    "ax.set_xlabel(\"Unit sales in Millions\")\n",
    "ax.set_ylabel(\"Average Critic Score (Metacritic)\")\n",
    "ax.set_title('Relationship between Critic Score and Sales')\n",
    "\n",
    "\n",
    "plt.show()"
   ]
  },
  {
   "cell_type": "code",
   "execution_count": 122,
   "metadata": {},
   "outputs": [
    {
     "data": {
      "text/html": [
       "<div>\n",
       "<style scoped>\n",
       "    .dataframe tbody tr th:only-of-type {\n",
       "        vertical-align: middle;\n",
       "    }\n",
       "\n",
       "    .dataframe tbody tr th {\n",
       "        vertical-align: top;\n",
       "    }\n",
       "\n",
       "    .dataframe thead th {\n",
       "        text-align: right;\n",
       "    }\n",
       "</style>\n",
       "<table border=\"1\" class=\"dataframe\">\n",
       "  <thead>\n",
       "    <tr style=\"text-align: right;\">\n",
       "      <th></th>\n",
       "      <th>global_unit_sales</th>\n",
       "      <th>score</th>\n",
       "    </tr>\n",
       "  </thead>\n",
       "  <tbody>\n",
       "    <tr>\n",
       "      <th>global_unit_sales</th>\n",
       "      <td>1.000000</td>\n",
       "      <td>0.298152</td>\n",
       "    </tr>\n",
       "    <tr>\n",
       "      <th>score</th>\n",
       "      <td>0.298152</td>\n",
       "      <td>1.000000</td>\n",
       "    </tr>\n",
       "  </tbody>\n",
       "</table>\n",
       "</div>"
      ],
      "text/plain": [
       "                   global_unit_sales     score\n",
       "global_unit_sales           1.000000  0.298152\n",
       "score                       0.298152  1.000000"
      ]
     },
     "execution_count": 122,
     "metadata": {},
     "output_type": "execute_result"
    }
   ],
   "source": [
    "gamespot_w_sales[['global_unit_sales', 'score']].corr()"
   ]
  },
  {
   "cell_type": "code",
   "execution_count": 123,
   "metadata": {},
   "outputs": [],
   "source": [
    "# Above we got the correlation and scatter plot for the user review count and the total sales globally\n",
    "\n",
    "\n",
    "# we found that all 3 had some correletion, betweeen .29 and .39 which is good but lower than the\n",
    "# correlation with the user review count\n",
    "\n",
    "\n",
    "# we also checked the user score only gor games with at least 5 reviews as an attempt to try and\n",
    "# not skew the data with scores that have only 1 review and it was still lower than critic scores"
   ]
  },
  {
   "cell_type": "code",
   "execution_count": 124,
   "metadata": {},
   "outputs": [],
   "source": [
    "# going forward we will sort by review count, find the most popular games by the review count \n",
    "# which could tell us which game could be turned into a movie"
   ]
  },
  {
   "cell_type": "code",
   "execution_count": 125,
   "metadata": {},
   "outputs": [],
   "source": [
    "top_20_games_by_sales = metacritic_w_sales.sort_values('global_unit_sales', ascending = False).head(20)"
   ]
  },
  {
   "cell_type": "code",
   "execution_count": 126,
   "metadata": {},
   "outputs": [
    {
     "data": {
      "text/plain": [
       "Text(0.5, 1.0, 'Review Count for Top 20 Games Sold')"
      ]
     },
     "execution_count": 126,
     "metadata": {},
     "output_type": "execute_result"
    },
    {
     "data": {
      "image/png": "[encoded data removed]",
      "text/plain": [
       "<Figure size 432x288 with 1 Axes>"
      ]
     },
     "metadata": {},
     "output_type": "display_data"
    }
   ],
   "source": [
    "\n",
    "ax = top_20_games_by_sales.plot.bar(x = 'Game', y = 'user_review_count')\n",
    "ax.set_ylabel('User Review Count')\n",
    "ax.set_xlabel('Game')\n",
    "ax.set_title('Review Count for Top 20 Games Sold')"
   ]
  },
  {
   "cell_type": "code",
   "execution_count": 127,
   "metadata": {},
   "outputs": [],
   "source": [
    "# based on the top 20 games sold most had a lot of reviews and the ones that didnt\n",
    "# like fifa are games that have new releases every year"
   ]
  },
  {
   "cell_type": "code",
   "execution_count": 128,
   "metadata": {},
   "outputs": [
    {
     "data": {
      "text/plain": [
       "Text(0.5, 1.0, 'Sales by Content Rating')"
      ]
     },
     "execution_count": 128,
     "metadata": {},
     "output_type": "execute_result"
    },
    {
     "data": {
      "image/png": "[encoded data removed]",
      "text/plain": [
       "<Figure size 432x288 with 1 Axes>"
      ]
     },
     "metadata": {},
     "output_type": "display_data"
    }
   ],
   "source": [
    "publisher_sales = metacritic_w_sales.groupby('content_rating')['global_unit_sales'].describe().sort_values('count', ascending = False)[0:20]    \n",
    "\n",
    "ax = publisher_sales.plot.bar(y = 'mean')\n",
    "ax.set_ylabel('Unit sales in Millions')\n",
    "ax.set_xlabel('Content Rating')\n",
    "ax.set_title('Sales by Content Rating')"
   ]
  },
  {
   "cell_type": "code",
   "execution_count": 129,
   "metadata": {},
   "outputs": [
    {
     "data": {
      "text/plain": [
       "Text(0.5, 1.0, 'User Review Count by Content Rating')"
      ]
     },
     "execution_count": 129,
     "metadata": {},
     "output_type": "execute_result"
    },
    {
     "data": {
      "image/png": "[encoded data removed]",
      "text/plain": [
       "<Figure size 432x288 with 1 Axes>"
      ]
     },
     "metadata": {},
     "output_type": "display_data"
    }
   ],
   "source": [
    "publisher_sales = metacritic_w_sales.groupby('content_rating')['user_review_count'].describe().sort_values('count', ascending = False)[0:20]    \n",
    "\n",
    "ax = publisher_sales.plot.bar(y = 'mean')\n",
    "ax.set_ylabel('Average User Review Count')\n",
    "ax.set_xlabel('Content Rating')\n",
    "ax.set_title('User Review Count by Content Rating')"
   ]
  },
  {
   "cell_type": "code",
   "execution_count": 130,
   "metadata": {},
   "outputs": [],
   "source": [
    "# Based on the graphs above the best selling and most reviewed games are Mature games by a large margin    "
   ]
  },
  {
   "cell_type": "code",
   "execution_count": 131,
   "metadata": {
    "scrolled": true
   },
   "outputs": [
    {
     "data": {
      "text/html": [
       "<div>\n",
       "<style scoped>\n",
       "    .dataframe tbody tr th:only-of-type {\n",
       "        vertical-align: middle;\n",
       "    }\n",
       "\n",
       "    .dataframe tbody tr th {\n",
       "        vertical-align: top;\n",
       "    }\n",
       "\n",
       "    .dataframe thead th {\n",
       "        text-align: right;\n",
       "    }\n",
       "</style>\n",
       "<table border=\"1\" class=\"dataframe\">\n",
       "  <thead>\n",
       "    <tr style=\"text-align: right;\">\n",
       "      <th></th>\n",
       "      <th>Release date</th>\n",
       "      <th>Worldwide box office</th>\n",
       "    </tr>\n",
       "  </thead>\n",
       "  <tbody>\n",
       "    <tr>\n",
       "      <th>count</th>\n",
       "      <td>38.000000</td>\n",
       "      <td>3.800000e+01</td>\n",
       "    </tr>\n",
       "    <tr>\n",
       "      <th>mean</th>\n",
       "      <td>2007.710526</td>\n",
       "      <td>1.360747e+08</td>\n",
       "    </tr>\n",
       "    <tr>\n",
       "      <th>std</th>\n",
       "      <td>7.522607</td>\n",
       "      <td>1.379859e+08</td>\n",
       "    </tr>\n",
       "    <tr>\n",
       "      <th>min</th>\n",
       "      <td>1993.000000</td>\n",
       "      <td>9.232100e+04</td>\n",
       "    </tr>\n",
       "    <tr>\n",
       "      <th>25%</th>\n",
       "      <td>2003.250000</td>\n",
       "      <td>1.284763e+07</td>\n",
       "    </tr>\n",
       "    <tr>\n",
       "      <th>50%</th>\n",
       "      <td>2007.500000</td>\n",
       "      <td>9.851549e+07</td>\n",
       "    </tr>\n",
       "    <tr>\n",
       "      <th>75%</th>\n",
       "      <td>2013.500000</td>\n",
       "      <td>2.404201e+08</td>\n",
       "    </tr>\n",
       "    <tr>\n",
       "      <th>max</th>\n",
       "      <td>2020.000000</td>\n",
       "      <td>4.390489e+08</td>\n",
       "    </tr>\n",
       "  </tbody>\n",
       "</table>\n",
       "</div>"
      ],
      "text/plain": [
       "       Release date  Worldwide box office\n",
       "count     38.000000          3.800000e+01\n",
       "mean    2007.710526          1.360747e+08\n",
       "std        7.522607          1.379859e+08\n",
       "min     1993.000000          9.232100e+04\n",
       "25%     2003.250000          1.284763e+07\n",
       "50%     2007.500000          9.851549e+07\n",
       "75%     2013.500000          2.404201e+08\n",
       "max     2020.000000          4.390489e+08"
      ]
     },
     "execution_count": 131,
     "metadata": {},
     "output_type": "execute_result"
    }
   ],
   "source": [
    "box_office_video_game_movies.describe()"
   ]
  },
  {
   "cell_type": "code",
   "execution_count": 132,
   "metadata": {
    "scrolled": false
   },
   "outputs": [
    {
     "data": {
      "text/html": [
       "<div>\n",
       "<style scoped>\n",
       "    .dataframe tbody tr th:only-of-type {\n",
       "        vertical-align: middle;\n",
       "    }\n",
       "\n",
       "    .dataframe tbody tr th {\n",
       "        vertical-align: top;\n",
       "    }\n",
       "\n",
       "    .dataframe thead th {\n",
       "        text-align: right;\n",
       "    }\n",
       "</style>\n",
       "<table border=\"1\" class=\"dataframe\">\n",
       "  <thead>\n",
       "    <tr style=\"text-align: right;\">\n",
       "      <th></th>\n",
       "      <th>Title</th>\n",
       "      <th>Release date</th>\n",
       "      <th>Worldwide box office</th>\n",
       "      <th>Distributor</th>\n",
       "      <th>Original game publisher</th>\n",
       "    </tr>\n",
       "  </thead>\n",
       "  <tbody>\n",
       "    <tr>\n",
       "      <th>35</th>\n",
       "      <td>Dead Trigger</td>\n",
       "      <td>2019</td>\n",
       "      <td>92321</td>\n",
       "      <td>Saban Films</td>\n",
       "      <td>Madfinger Games</td>\n",
       "    </tr>\n",
       "    <tr>\n",
       "      <th>17</th>\n",
       "      <td>Postal</td>\n",
       "      <td>2007</td>\n",
       "      <td>146741</td>\n",
       "      <td>Vivendi Entertainment</td>\n",
       "      <td>Ripcord Games</td>\n",
       "    </tr>\n",
       "    <tr>\n",
       "      <th>20</th>\n",
       "      <td>Far Cry</td>\n",
       "      <td>2008</td>\n",
       "      <td>743634</td>\n",
       "      <td>20th Century Fox</td>\n",
       "      <td>Ubisoft</td>\n",
       "    </tr>\n",
       "    <tr>\n",
       "      <th>23</th>\n",
       "      <td>Tekken</td>\n",
       "      <td>2010</td>\n",
       "      <td>967369</td>\n",
       "      <td>Warner Bros. Pictures</td>\n",
       "      <td>Bandai Namco Games</td>\n",
       "    </tr>\n",
       "    <tr>\n",
       "      <th>1</th>\n",
       "      <td>Double Dragon</td>\n",
       "      <td>1994</td>\n",
       "      <td>2341309</td>\n",
       "      <td>Gramercy Pictures</td>\n",
       "      <td>Technōs Japan</td>\n",
       "    </tr>\n",
       "  </tbody>\n",
       "</table>\n",
       "</div>"
      ],
      "text/plain": [
       "            Title  Release date  Worldwide box office            Distributor  \\\n",
       "35   Dead Trigger          2019                 92321            Saban Films   \n",
       "17         Postal          2007                146741  Vivendi Entertainment   \n",
       "20        Far Cry          2008                743634       20th Century Fox   \n",
       "23         Tekken          2010                967369  Warner Bros. Pictures   \n",
       "1   Double Dragon          1994               2341309      Gramercy Pictures   \n",
       "\n",
       "   Original game publisher  \n",
       "35         Madfinger Games  \n",
       "17           Ripcord Games  \n",
       "20                 Ubisoft  \n",
       "23      Bandai Namco Games  \n",
       "1            Technōs Japan  "
      ]
     },
     "execution_count": 132,
     "metadata": {},
     "output_type": "execute_result"
    }
   ],
   "source": [
    "box_office_video_game_movies.sort_values('Worldwide box office').head()"
   ]
  },
  {
   "cell_type": "code",
   "execution_count": 86,
   "metadata": {},
   "outputs": [],
   "source": [
    "movies_after_2012 = box_office_video_game_movies.loc[box_office_video_game_movies['Release date'] >= 2013].sort_values('Worldwide box office', ascending = False)    \n",
    "movies_after_2012['Worldwide box office'] = [x/1000000 for x in movies_after_2012['Worldwide box office']]"
   ]
  },
  {
   "cell_type": "code",
   "execution_count": 87,
   "metadata": {},
   "outputs": [],
   "source": [
    "# Live Action movies on average made $136 million\n",
    "\n",
    "# all but 4 of 37 movies made $2.3 million or more\n",
    "\n",
    "# of the 10 live action video game movies only 2 made less than $200 million\n",
    "\n",
    "# the only movie that did really poorly was dead trigger which was an android/ios game\n",
    "\n",
    "# as in the graph below the only other movie that made less than @200 million was hitman \n",
    "# but it still did fairly well overall despite being seen as a very bad movie \n",
    "# (avg score of 31 as per rottentomatoes, imdb and metacritic)\n",
    "\n",
    "# movies like warcraft also did poorly in ratings and made a lot of money"
   ]
  },
  {
   "cell_type": "code",
   "execution_count": 97,
   "metadata": {
    "scrolled": true
   },
   "outputs": [
    {
     "data": {
      "image/png": "[encoded data removed]",
      "text/plain": [
       "<Figure size 432x288 with 1 Axes>"
      ]
     },
     "metadata": {},
     "output_type": "display_data"
    }
   ],
   "source": [
    "ax2 = movies_after_2012.groupby('Title')['Worldwide box office'].sum().sort_values(ascending = False).plot(kind = 'bar', title = 'Box Office of Video Game Movies')\n",
    "ax2.set_ylabel('Worldwide Box Office (in Millions)')\n",
    "ax2.set_xlabel('')\n",
    "\n",
    "plt.savefig('Box_office_video_game_movies.png')"
   ]
  },
  {
   "cell_type": "code",
   "execution_count": 4,
   "metadata": {},
   "outputs": [],
   "source": [
    "top_20_games_by_review_count = metacritic_w_sales.sort_values('user_review_count', ascending = False).head(20)"
   ]
  },
  {
   "cell_type": "code",
   "execution_count": 9,
   "metadata": {
    "collapsed": true
   },
   "outputs": [
    {
     "data": {
      "text/html": [
       "<div>\n",
       "<style scoped>\n",
       "    .dataframe tbody tr th:only-of-type {\n",
       "        vertical-align: middle;\n",
       "    }\n",
       "\n",
       "    .dataframe tbody tr th {\n",
       "        vertical-align: top;\n",
       "    }\n",
       "\n",
       "    .dataframe thead th {\n",
       "        text-align: right;\n",
       "    }\n",
       "</style>\n",
       "<table border=\"1\" class=\"dataframe\">\n",
       "  <thead>\n",
       "    <tr style=\"text-align: right;\">\n",
       "      <th></th>\n",
       "      <th>Game</th>\n",
       "      <th>metacritic_score</th>\n",
       "      <th>metacritic_review_count</th>\n",
       "      <th>user_score</th>\n",
       "      <th>user_review_count</th>\n",
       "      <th>content_rating</th>\n",
       "      <th>genres</th>\n",
       "      <th>release_year</th>\n",
       "      <th>Publisher</th>\n",
       "      <th>global_unit_sales</th>\n",
       "    </tr>\n",
       "  </thead>\n",
       "  <tbody>\n",
       "    <tr>\n",
       "      <th>3</th>\n",
       "      <td>The Witcher 3: Wild Hunt</td>\n",
       "      <td>91</td>\n",
       "      <td>13</td>\n",
       "      <td>9.2</td>\n",
       "      <td>4585.0</td>\n",
       "      <td>M</td>\n",
       "      <td>['Action RPG', ' Role-Playing', ' Action RPG']</td>\n",
       "      <td>2015</td>\n",
       "      <td>Namco Bandai Games</td>\n",
       "      <td>1.74</td>\n",
       "    </tr>\n",
       "    <tr>\n",
       "      <th>36</th>\n",
       "      <td>Halo 5: Guardians</td>\n",
       "      <td>84</td>\n",
       "      <td>101</td>\n",
       "      <td>6.4</td>\n",
       "      <td>2950.0</td>\n",
       "      <td>T</td>\n",
       "      <td>['Shooter', ' Sci-Fi', ' Sci-Fi', ' Action', '...</td>\n",
       "      <td>2015</td>\n",
       "      <td>Microsoft Studios</td>\n",
       "      <td>4.92</td>\n",
       "    </tr>\n",
       "    <tr>\n",
       "      <th>20</th>\n",
       "      <td>Titanfall</td>\n",
       "      <td>86</td>\n",
       "      <td>68</td>\n",
       "      <td>6.7</td>\n",
       "      <td>2485.0</td>\n",
       "      <td>M</td>\n",
       "      <td>['Shooter', ' Sci-Fi', ' Miscellaneous', ' Gen...</td>\n",
       "      <td>2014</td>\n",
       "      <td>Electronic Arts</td>\n",
       "      <td>3.11</td>\n",
       "    </tr>\n",
       "    <tr>\n",
       "      <th>0</th>\n",
       "      <td>Red Dead Redemption 2</td>\n",
       "      <td>97</td>\n",
       "      <td>33</td>\n",
       "      <td>7.7</td>\n",
       "      <td>2413.0</td>\n",
       "      <td>M</td>\n",
       "      <td>['Action Adventure', ' Open-World']</td>\n",
       "      <td>2018</td>\n",
       "      <td>Rockstar Games</td>\n",
       "      <td>5.77</td>\n",
       "    </tr>\n",
       "    <tr>\n",
       "      <th>10</th>\n",
       "      <td>Fallout 4</td>\n",
       "      <td>88</td>\n",
       "      <td>39</td>\n",
       "      <td>6.5</td>\n",
       "      <td>1971.0</td>\n",
       "      <td>M</td>\n",
       "      <td>['General', ' Role-Playing', ' Western-Style']</td>\n",
       "      <td>2015</td>\n",
       "      <td>Bethesda Softworks</td>\n",
       "      <td>5.03</td>\n",
       "    </tr>\n",
       "    <tr>\n",
       "      <th>282</th>\n",
       "      <td>Quantum Break</td>\n",
       "      <td>77</td>\n",
       "      <td>106</td>\n",
       "      <td>7.1</td>\n",
       "      <td>1954.0</td>\n",
       "      <td>M</td>\n",
       "      <td>['General', ' Action', ' General']</td>\n",
       "      <td>2016</td>\n",
       "      <td>Microsoft Studios</td>\n",
       "      <td>0.76</td>\n",
       "    </tr>\n",
       "    <tr>\n",
       "      <th>170</th>\n",
       "      <td>Sea Of Thieves</td>\n",
       "      <td>69</td>\n",
       "      <td>71</td>\n",
       "      <td>5.0</td>\n",
       "      <td>1890.0</td>\n",
       "      <td>T</td>\n",
       "      <td>['Role-Playing', ' Massively Multiplayer']</td>\n",
       "      <td>2018</td>\n",
       "      <td>Microsoft Studios</td>\n",
       "      <td>0.96</td>\n",
       "    </tr>\n",
       "    <tr>\n",
       "      <th>126</th>\n",
       "      <td>Destiny</td>\n",
       "      <td>75</td>\n",
       "      <td>11</td>\n",
       "      <td>5.5</td>\n",
       "      <td>1760.0</td>\n",
       "      <td>T</td>\n",
       "      <td>['Shooter', ' Sci-Fi', ' Action', ' Shooter', ...</td>\n",
       "      <td>2014</td>\n",
       "      <td>Activision</td>\n",
       "      <td>3.41</td>\n",
       "    </tr>\n",
       "    <tr>\n",
       "      <th>269</th>\n",
       "      <td>Halo: The Master Chief Collection</td>\n",
       "      <td>85</td>\n",
       "      <td>69</td>\n",
       "      <td>7.5</td>\n",
       "      <td>1479.0</td>\n",
       "      <td>M</td>\n",
       "      <td>['Miscellaneous', ' Compilation', ' Action', '...</td>\n",
       "      <td>2014</td>\n",
       "      <td>Microsoft Studios</td>\n",
       "      <td>3.44</td>\n",
       "    </tr>\n",
       "    <tr>\n",
       "      <th>21</th>\n",
       "      <td>Rise Of The Tomb Raider</td>\n",
       "      <td>86</td>\n",
       "      <td>102</td>\n",
       "      <td>8.0</td>\n",
       "      <td>1427.0</td>\n",
       "      <td>M</td>\n",
       "      <td>['Fantasy', ' Action Adventure', ' General', '...</td>\n",
       "      <td>2015</td>\n",
       "      <td>Square Enix</td>\n",
       "      <td>1.58</td>\n",
       "    </tr>\n",
       "    <tr>\n",
       "      <th>68</th>\n",
       "      <td>Sunset Overdrive</td>\n",
       "      <td>81</td>\n",
       "      <td>89</td>\n",
       "      <td>7.8</td>\n",
       "      <td>1357.0</td>\n",
       "      <td>M</td>\n",
       "      <td>['General', ' Action', ' General', ' Shooter',...</td>\n",
       "      <td>2014</td>\n",
       "      <td>Microsoft Studios</td>\n",
       "      <td>1.16</td>\n",
       "    </tr>\n",
       "    <tr>\n",
       "      <th>35</th>\n",
       "      <td>Gears Of War 4</td>\n",
       "      <td>84</td>\n",
       "      <td>99</td>\n",
       "      <td>7.0</td>\n",
       "      <td>1322.0</td>\n",
       "      <td>M</td>\n",
       "      <td>['Action', ' Sci-Fi', ' Third-Person', ' Shoot...</td>\n",
       "      <td>2016</td>\n",
       "      <td>Microsoft Studios</td>\n",
       "      <td>3.38</td>\n",
       "    </tr>\n",
       "    <tr>\n",
       "      <th>85</th>\n",
       "      <td>Forza Motorsport 5</td>\n",
       "      <td>79</td>\n",
       "      <td>76</td>\n",
       "      <td>6.0</td>\n",
       "      <td>1126.0</td>\n",
       "      <td>E</td>\n",
       "      <td>['GT / Street', ' Driving', ' Racing', ' Simul...</td>\n",
       "      <td>2013</td>\n",
       "      <td>Microsoft Studios</td>\n",
       "      <td>2.40</td>\n",
       "    </tr>\n",
       "    <tr>\n",
       "      <th>1</th>\n",
       "      <td>Metal Gear Solid V: The Phantom Pain</td>\n",
       "      <td>95</td>\n",
       "      <td>10</td>\n",
       "      <td>7.4</td>\n",
       "      <td>1111.0</td>\n",
       "      <td>M</td>\n",
       "      <td>['Modern', ' Modern', ' Action Adventure', ' O...</td>\n",
       "      <td>2015</td>\n",
       "      <td>Konami Digital Entertainment</td>\n",
       "      <td>0.83</td>\n",
       "    </tr>\n",
       "    <tr>\n",
       "      <th>322</th>\n",
       "      <td>Grand Theft Auto V</td>\n",
       "      <td>97</td>\n",
       "      <td>14</td>\n",
       "      <td>7.8</td>\n",
       "      <td>1087.0</td>\n",
       "      <td>M</td>\n",
       "      <td>['Action Adventure', ' Modern', ' Open-World']</td>\n",
       "      <td>2014</td>\n",
       "      <td>Rockstar Games</td>\n",
       "      <td>8.72</td>\n",
       "    </tr>\n",
       "    <tr>\n",
       "      <th>286</th>\n",
       "      <td>Mass Effect: Andromeda</td>\n",
       "      <td>76</td>\n",
       "      <td>35</td>\n",
       "      <td>5.0</td>\n",
       "      <td>1061.0</td>\n",
       "      <td>M</td>\n",
       "      <td>['Role-Playing', ' Action RPG']</td>\n",
       "      <td>2017</td>\n",
       "      <td>Electronic Arts</td>\n",
       "      <td>0.78</td>\n",
       "    </tr>\n",
       "    <tr>\n",
       "      <th>323</th>\n",
       "      <td>Forza Horizon 3</td>\n",
       "      <td>91</td>\n",
       "      <td>91</td>\n",
       "      <td>8.0</td>\n",
       "      <td>1052.0</td>\n",
       "      <td>E</td>\n",
       "      <td>['Racing', ' Simulation', ' Automobile']</td>\n",
       "      <td>2016</td>\n",
       "      <td>Microsoft Studios</td>\n",
       "      <td>3.93</td>\n",
       "    </tr>\n",
       "    <tr>\n",
       "      <th>101</th>\n",
       "      <td>Dead Rising 3</td>\n",
       "      <td>78</td>\n",
       "      <td>69</td>\n",
       "      <td>6.9</td>\n",
       "      <td>953.0</td>\n",
       "      <td>M</td>\n",
       "      <td>['General', ' Action', ' Action Adventure', ' ...</td>\n",
       "      <td>2013</td>\n",
       "      <td>Microsoft Studios</td>\n",
       "      <td>1.63</td>\n",
       "    </tr>\n",
       "    <tr>\n",
       "      <th>221</th>\n",
       "      <td>Crackdown 3</td>\n",
       "      <td>60</td>\n",
       "      <td>82</td>\n",
       "      <td>4.2</td>\n",
       "      <td>938.0</td>\n",
       "      <td>M</td>\n",
       "      <td>['Action', ' Sci-Fi', ' Third-Person', ' Shoot...</td>\n",
       "      <td>2019</td>\n",
       "      <td>Microsoft Studios</td>\n",
       "      <td>0.00</td>\n",
       "    </tr>\n",
       "    <tr>\n",
       "      <th>66</th>\n",
       "      <td>Call Of Duty: Advanced Warfare</td>\n",
       "      <td>81</td>\n",
       "      <td>53</td>\n",
       "      <td>5.5</td>\n",
       "      <td>921.0</td>\n",
       "      <td>M</td>\n",
       "      <td>['Action', ' Shooter', ' First-Person', ' Mode...</td>\n",
       "      <td>2014</td>\n",
       "      <td>Activision</td>\n",
       "      <td>5.22</td>\n",
       "    </tr>\n",
       "  </tbody>\n",
       "</table>\n",
       "</div>"
      ],
      "text/plain": [
       "                                     Game  metacritic_score  \\\n",
       "3                The Witcher 3: Wild Hunt                91   \n",
       "36                      Halo 5: Guardians                84   \n",
       "20                              Titanfall                86   \n",
       "0                   Red Dead Redemption 2                97   \n",
       "10                              Fallout 4                88   \n",
       "282                         Quantum Break                77   \n",
       "170                        Sea Of Thieves                69   \n",
       "126                               Destiny                75   \n",
       "269     Halo: The Master Chief Collection                85   \n",
       "21                Rise Of The Tomb Raider                86   \n",
       "68                       Sunset Overdrive                81   \n",
       "35                         Gears Of War 4                84   \n",
       "85                     Forza Motorsport 5                79   \n",
       "1    Metal Gear Solid V: The Phantom Pain                95   \n",
       "322                    Grand Theft Auto V                97   \n",
       "286                Mass Effect: Andromeda                76   \n",
       "323                       Forza Horizon 3                91   \n",
       "101                         Dead Rising 3                78   \n",
       "221                           Crackdown 3                60   \n",
       "66         Call Of Duty: Advanced Warfare                81   \n",
       "\n",
       "     metacritic_review_count  user_score  user_review_count content_rating  \\\n",
       "3                         13         9.2             4585.0              M   \n",
       "36                       101         6.4             2950.0              T   \n",
       "20                        68         6.7             2485.0              M   \n",
       "0                         33         7.7             2413.0              M   \n",
       "10                        39         6.5             1971.0              M   \n",
       "282                      106         7.1             1954.0              M   \n",
       "170                       71         5.0             1890.0              T   \n",
       "126                       11         5.5             1760.0              T   \n",
       "269                       69         7.5             1479.0              M   \n",
       "21                       102         8.0             1427.0              M   \n",
       "68                        89         7.8             1357.0              M   \n",
       "35                        99         7.0             1322.0              M   \n",
       "85                        76         6.0             1126.0              E   \n",
       "1                         10         7.4             1111.0              M   \n",
       "322                       14         7.8             1087.0              M   \n",
       "286                       35         5.0             1061.0              M   \n",
       "323                       91         8.0             1052.0              E   \n",
       "101                       69         6.9              953.0              M   \n",
       "221                       82         4.2              938.0              M   \n",
       "66                        53         5.5              921.0              M   \n",
       "\n",
       "                                                genres  release_year  \\\n",
       "3       ['Action RPG', ' Role-Playing', ' Action RPG']          2015   \n",
       "36   ['Shooter', ' Sci-Fi', ' Sci-Fi', ' Action', '...          2015   \n",
       "20   ['Shooter', ' Sci-Fi', ' Miscellaneous', ' Gen...          2014   \n",
       "0                  ['Action Adventure', ' Open-World']          2018   \n",
       "10      ['General', ' Role-Playing', ' Western-Style']          2015   \n",
       "282                 ['General', ' Action', ' General']          2016   \n",
       "170         ['Role-Playing', ' Massively Multiplayer']          2018   \n",
       "126  ['Shooter', ' Sci-Fi', ' Action', ' Shooter', ...          2014   \n",
       "269  ['Miscellaneous', ' Compilation', ' Action', '...          2014   \n",
       "21   ['Fantasy', ' Action Adventure', ' General', '...          2015   \n",
       "68   ['General', ' Action', ' General', ' Shooter',...          2014   \n",
       "35   ['Action', ' Sci-Fi', ' Third-Person', ' Shoot...          2016   \n",
       "85   ['GT / Street', ' Driving', ' Racing', ' Simul...          2013   \n",
       "1    ['Modern', ' Modern', ' Action Adventure', ' O...          2015   \n",
       "322     ['Action Adventure', ' Modern', ' Open-World']          2014   \n",
       "286                    ['Role-Playing', ' Action RPG']          2017   \n",
       "323           ['Racing', ' Simulation', ' Automobile']          2016   \n",
       "101  ['General', ' Action', ' Action Adventure', ' ...          2013   \n",
       "221  ['Action', ' Sci-Fi', ' Third-Person', ' Shoot...          2019   \n",
       "66   ['Action', ' Shooter', ' First-Person', ' Mode...          2014   \n",
       "\n",
       "                        Publisher  global_unit_sales  \n",
       "3              Namco Bandai Games               1.74  \n",
       "36              Microsoft Studios               4.92  \n",
       "20                Electronic Arts               3.11  \n",
       "0                  Rockstar Games               5.77  \n",
       "10             Bethesda Softworks               5.03  \n",
       "282             Microsoft Studios               0.76  \n",
       "170             Microsoft Studios               0.96  \n",
       "126                    Activision               3.41  \n",
       "269             Microsoft Studios               3.44  \n",
       "21                    Square Enix               1.58  \n",
       "68              Microsoft Studios               1.16  \n",
       "35              Microsoft Studios               3.38  \n",
       "85              Microsoft Studios               2.40  \n",
       "1    Konami Digital Entertainment               0.83  \n",
       "322                Rockstar Games               8.72  \n",
       "286               Electronic Arts               0.78  \n",
       "323             Microsoft Studios               3.93  \n",
       "101             Microsoft Studios               1.63  \n",
       "221             Microsoft Studios               0.00  \n",
       "66                     Activision               5.22  "
      ]
     },
     "execution_count": 9,
     "metadata": {},
     "output_type": "execute_result"
    }
   ],
   "source": [
    "top_20_games_by_review_count"
   ]
  },
  {
   "cell_type": "code",
   "execution_count": 54,
   "metadata": {},
   "outputs": [],
   "source": [
    "import ast\n",
    "metacritic_w_sales['genres'] = metacritic_w_sales['genres'].apply(lambda x: ast.literal_eval(x))\n",
    "\n",
    "# all_genres = []\n",
    "# for x in top_20_games_by_review_count['genres']:\n",
    "#     for y in x:\n",
    "#         all_genres.append(y.lstrip())\n",
    "        "
   ]
  },
  {
   "cell_type": "code",
   "execution_count": 26,
   "metadata": {},
   "outputs": [],
   "source": [
    "from collections import Counter"
   ]
  },
  {
   "cell_type": "code",
   "execution_count": 27,
   "metadata": {},
   "outputs": [],
   "source": [
    "x = Counter(all_genres)"
   ]
  },
  {
   "cell_type": "code",
   "execution_count": 28,
   "metadata": {},
   "outputs": [],
   "source": [
    "# action/adventure = 250\n",
    "# RPG. = 36\n",
    "# Open-World = 24\n",
    "# Shooter = 61\n",
    "# Racing = 29\n",
    "\n",
    "# not including sports as that is already based off of a real life event and it does not make\n",
    "# sense to adapt that into any kind of movie\n",
    "\n",
    "# top 5 genres of top 20 games \n",
    "\n",
    "# action/adventure \n",
    "# shooter \n",
    "# open world\n",
    "# sci-fi\n",
    "# rpg"
   ]
  },
  {
   "cell_type": "code",
   "execution_count": 55,
   "metadata": {},
   "outputs": [],
   "source": [
    "test = metacritic_w_sales"
   ]
  },
  {
   "cell_type": "code",
   "execution_count": null,
   "metadata": {},
   "outputs": [],
   "source": []
  },
  {
   "cell_type": "code",
   "execution_count": 58,
   "metadata": {},
   "outputs": [],
   "source": [
    "test['Action/Adventure'] = [1 if 'Action' in (' '.join(x)) else 0 for x in test['genres']]\n",
    "test['RPG'] = [1 if 'Role-Playing' in (' '.join(x)) else 0 for x in test['genres']]\n",
    "test['Open-World'] = [1 if 'Open-World' in (' '.join(x)) else 0 for x in test['genres']]\n",
    "test['Shooter'] = [1 if 'Shooter' in (' '.join(x)) else 0 for x in test['genres']]\n",
    "test['Racing'] = [1 if 'Racing' in (' '.join(x)) else 0 for x in test['genres']]\n",
    "test['Sci-fi'] = [1 if 'Sci-Fi' in (' '.join(x)) else 0 for x in test['genres']]"
   ]
  },
  {
   "cell_type": "code",
   "execution_count": 59,
   "metadata": {},
   "outputs": [],
   "source": [
    "test2 = test.head(20).sort_values('user_review_count', ascending = False)"
   ]
  },
  {
   "cell_type": "code",
   "execution_count": 63,
   "metadata": {},
   "outputs": [
    {
     "data": {
      "text/plain": [
       "Game                       The Witcher 3: Wild HuntRed Dead Redemption 2F...\n",
       "metacritic_score                                                        1784\n",
       "metacritic_review_count                                                  520\n",
       "user_score                                                             144.3\n",
       "user_review_count                                                      16080\n",
       "content_rating                                 MMMMETE10+MMTME10+TEMEE10+EEE\n",
       "genres                     [Action RPG,  Role-Playing,  Action RPG, Actio...\n",
       "release_year                                                           40313\n",
       "global_unit_sales                                                      25.55\n",
       "Action/Adventure                                                          14\n",
       "RPG                                                                        3\n",
       "Open-World                                                                 3\n",
       "Shooter                                                                    3\n",
       "Racing                                                                     1\n",
       "Sci-fi                                                                     0\n",
       "dtype: object"
      ]
     },
     "execution_count": 63,
     "metadata": {},
     "output_type": "execute_result"
    }
   ],
   "source": [
    "test2.sum()"
   ]
  },
  {
   "cell_type": "code",
   "execution_count": 61,
   "metadata": {},
   "outputs": [
    {
     "data": {
      "text/plain": [
       "Game                       Red Dead Redemption 2Metal Gear Solid V: The P...\n",
       "metacritic_score                                                       24887\n",
       "metacritic_review_count                                                 7095\n",
       "user_score                                                            2119.5\n",
       "user_review_count                                                      78922\n",
       "content_rating             MMMME10+TEME10+TMMEMETEE10+EEMMTEMME10+ETTMME1...\n",
       "genres                     [Action Adventure,  Open-World, Modern,  Moder...\n",
       "release_year                                                          695447\n",
       "global_unit_sales                                                     201.23\n",
       "Action/Adventure                                                         219\n",
       "RPG                                                                       36\n",
       "Open-World                                                                24\n",
       "Shooter                                                                   53\n",
       "Racing                                                                    29\n",
       "Sci-fi                                                                    13\n",
       "dtype: object"
      ]
     },
     "execution_count": 61,
     "metadata": {},
     "output_type": "execute_result"
    }
   ],
   "source": [
    "test.sum()"
   ]
  },
  {
   "cell_type": "code",
   "execution_count": null,
   "metadata": {},
   "outputs": [],
   "source": []
  }
 ],
 "metadata": {
  "kernelspec": {
   "display_name": "Python 3",
   "language": "python",
   "name": "python3"
  },
  "language_info": {
   "codemirror_mode": {
    "name": "ipython",
    "version": 3
   },
   "file_extension": ".py",
   "mimetype": "text/x-python",
   "name": "python",
   "nbconvert_exporter": "python",
   "pygments_lexer": "ipython3",
   "version": "3.7.6"
  }
 },
 "nbformat": 4,
 "nbformat_minor": 4
}
