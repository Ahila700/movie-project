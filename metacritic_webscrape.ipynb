{
 "cells": [
  {
   "cell_type": "code",
   "execution_count": 96,
   "metadata": {},
   "outputs": [],
   "source": [
    "import requests \n",
    "import pandas as pd \n",
    "import json \n",
    "import numpy as np\n",
    "import pprint\n",
    "from bs4 import BeautifulSoup"
   ]
  },
  {
   "cell_type": "code",
   "execution_count": 97,
   "metadata": {},
   "outputs": [],
   "source": [
    "header = {'user-agent': 'Mozilla/5.0 (Macintosh; Intel Mac OS X 10_15_4) AppleWebKit/537.36 (KHTML, like Gecko) Chrome/80.0.3987.163 Safari/537.36'}   "
   ]
  },
  {
   "cell_type": "code",
   "execution_count": 98,
   "metadata": {},
   "outputs": [],
   "source": [
    "#urlr = 'https://www.metacritic.com/game/xbox-one/red-dead-redemption-2'\n",
    "url = 'https://www.metacritic.com{}'.format(\"\")"
   ]
  },
  {
   "cell_type": "code",
   "execution_count": 99,
   "metadata": {},
   "outputs": [],
   "source": [
    "response_soup = requests.get(urlr, headers = header)"
   ]
  },
  {
   "cell_type": "code",
   "execution_count": 100,
   "metadata": {},
   "outputs": [],
   "source": [
    "soup = BeautifulSoup(response_soup.text, 'html.parser')"
   ]
  },
  {
   "cell_type": "code",
   "execution_count": 101,
   "metadata": {},
   "outputs": [
    {
     "data": {
      "text/plain": [
       "'Red Dead Redemption 2'"
      ]
     },
     "execution_count": 101,
     "metadata": {},
     "output_type": "execute_result"
    }
   ],
   "source": [
    "## First go to website find what you want\n",
    "## then keep going up in class until you find something with a unique title, grab that\n",
    "title = soup.findAll('div', {'class':\"product_title\"})\n",
    "\n",
    "# now we have a much smaller section to look through and grab the piece of info we ashley care about\n",
    "game_title = title[0].h1.text\n",
    "game_title"
   ]
  },
  {
   "cell_type": "code",
   "execution_count": 107,
   "metadata": {},
   "outputs": [
    {
     "data": {
      "text/plain": [
       "'97'"
      ]
     },
     "execution_count": 107,
     "metadata": {},
     "output_type": "execute_result"
    }
   ],
   "source": [
    "metascores = soup.findAll('div', {'class' : \"metascore_w xlarge game positive\"})\n",
    "\n",
    "metascore = metascores[0].span.text\n",
    "metascore"
   ]
  },
  {
   "cell_type": "code",
   "execution_count": 109,
   "metadata": {},
   "outputs": [
    {
     "data": {
      "text/plain": [
       "'33'"
      ]
     },
     "execution_count": 109,
     "metadata": {},
     "output_type": "execute_result"
    }
   ],
   "source": [
    "metascore_review = soup.findAll('span', {'class' : \"count\"})\n",
    "metascore_reviews = metascore_review[0].text.replace('\\n', '').split()\n",
    "metascore_reviews[3]"
   ]
  },
  {
   "cell_type": "code",
   "execution_count": 111,
   "metadata": {},
   "outputs": [
    {
     "data": {
      "text/plain": [
       "'7.7'"
      ]
     },
     "execution_count": 111,
     "metadata": {},
     "output_type": "execute_result"
    }
   ],
   "source": [
    "user_scores = soup.findAll('div', {'class' : \"metascore_w user large game positive\"})\n",
    "\n",
    "user_score = user_scores[0].text\n",
    "user_score"
   ]
  },
  {
   "cell_type": "code",
   "execution_count": 126,
   "metadata": {},
   "outputs": [
    {
     "data": {
      "text/plain": [
       "'2410'"
      ]
     },
     "execution_count": 126,
     "metadata": {},
     "output_type": "execute_result"
    }
   ],
   "source": [
    "user_review = soup.findAll('div', {'class' : \"details side_details\"})\n",
    "user_review_count = user_review[0].p.a.text.split()[0]\n",
    "user_review_count"
   ]
  },
  {
   "cell_type": "code",
   "execution_count": 137,
   "metadata": {},
   "outputs": [
    {
     "data": {
      "text/plain": [
       "'M'"
      ]
     },
     "execution_count": 137,
     "metadata": {},
     "output_type": "execute_result"
    }
   ],
   "source": [
    "content_rating = soup.findAll('li', {'class' : \"summary_detail product_rating\"})\n",
    "content_rating[0].text.replace('\\n', ' ').split()[1]"
   ]
  },
  {
   "cell_type": "code",
   "execution_count": 260,
   "metadata": {
    "collapsed": true
   },
   "outputs": [
    {
     "data": {
      "text/plain": [
       "<ol class=\"score_counts hover_none\">\n",
       "<li class=\"score_count\">\n",
       "<div class=\"count_wrap\">\n",
       "<span class=\"label\">Positive:</span>\n",
       "<span class=\"data\">\n",
       "<a href=\"/game/xbox-one/red-dead-redemption-2/critic-reviews?dist=positive\"> <span class=\"total\" style=\"width:100%;\">\n",
       "<span class=\"count\">33</span>\n",
       "<span class=\"distribution positive\"> out of 33</span>\n",
       "</span>\n",
       "</a> </span>\n",
       "</div>\n",
       "</li>\n",
       "<li class=\"score_count\">\n",
       "<div class=\"count_wrap\">\n",
       "<span class=\"label\">Mixed:</span>\n",
       "<span class=\"data\">\n",
       "<span class=\"total zero_total\" style=\"width:0%;\">\n",
       "<span class=\"count\">0</span>\n",
       "<span class=\"distribution mixed\"> out of 33</span>\n",
       "</span>\n",
       "</span>\n",
       "</div>\n",
       "</li>\n",
       "<li class=\"score_count\">\n",
       "<div class=\"count_wrap\">\n",
       "<span class=\"label\">Negative:</span>\n",
       "<span class=\"data\">\n",
       "<span class=\"total zero_total\" style=\"width:0%;\">\n",
       "<span class=\"count\">0</span>\n",
       "<span class=\"distribution negative\"> out of 33</span>\n",
       "</span>\n",
       "</span>\n",
       "</div>\n",
       "</li>\n",
       "</ol>"
      ]
     },
     "execution_count": 260,
     "metadata": {},
     "output_type": "execute_result"
    }
   ],
   "source": [
    "# finding hyperlink for all games in metacritic\n",
    "games = soup.select('ol', {'class' : \"list_products list_product_condensed\"})\n",
    "\n",
    "games[0]\n"
   ]
  },
  {
   "cell_type": "code",
   "execution_count": 261,
   "metadata": {},
   "outputs": [],
   "source": [
    "urlb = 'https://www.metacritic.com/browse/games/release-date/available/xboxone/metascore?page=0'\n",
    "response_soup = requests.get(urlb, headers = header)\n",
    "soup = BeautifulSoup(response_soup.text, 'html.parser')"
   ]
  },
  {
   "cell_type": "code",
   "execution_count": 301,
   "metadata": {},
   "outputs": [],
   "source": [
    "\n",
    "all_hyperlinks = []\n",
    "def get_game_links_from_site(url, header):\n",
    "    response_soup = requests.get(url, headers = header)\n",
    "    soup = BeautifulSoup(response_soup.text, 'html.parser')\n",
    "\n",
    "    game_table = soup.find_all('ol', class_=\"list_products list_product_condensed\")\n",
    "\n",
    "    for game in game_table:\n",
    "        game_links_html = game.find_all('a', href=True)\n",
    "        for game_link in game_links_html:\n",
    "            all_hyperlinks.append(game_link['href'])\n",
    "    return all_hyperlinks\n",
    "\n",
    "\n",
    "\n",
    "for i in range(0, 9):\n",
    "    url = 'https://www.metacritic.com/browse/games/release-date/available/xboxone/metascore?page={}'.format(i)        \n",
    "    get_game_links_from_site(url, header)\n",
    "    \n"
   ]
  },
  {
   "cell_type": "code",
   "execution_count": 302,
   "metadata": {},
   "outputs": [
    {
     "data": {
      "text/plain": [
       "1600"
      ]
     },
     "execution_count": 302,
     "metadata": {},
     "output_type": "execute_result"
    }
   ],
   "source": [
    "len(all_hyperlinks)"
   ]
  },
  {
   "cell_type": "code",
   "execution_count": null,
   "metadata": {},
   "outputs": [],
   "source": []
  }
 ],
 "metadata": {
  "kernelspec": {
   "display_name": "Python 3",
   "language": "python",
   "name": "python3"
  },
  "language_info": {
   "codemirror_mode": {
    "name": "ipython",
    "version": 3
   },
   "file_extension": ".py",
   "mimetype": "text/x-python",
   "name": "python",
   "nbconvert_exporter": "python",
   "pygments_lexer": "ipython3",
   "version": "3.7.6"
  }
 },
 "nbformat": 4,
 "nbformat_minor": 4
}
