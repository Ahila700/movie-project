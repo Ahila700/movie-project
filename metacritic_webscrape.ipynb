{
 "cells": [
  {
   "cell_type": "code",
   "execution_count": 1,
   "metadata": {},
   "outputs": [],
   "source": [
    "import requests \n",
    "import pandas as pd \n",
    "import json \n",
    "import numpy as np\n",
    "import pprint\n",
    "from bs4 import BeautifulSoup"
   ]
  },
  {
   "cell_type": "code",
   "execution_count": 2,
   "metadata": {},
   "outputs": [],
   "source": [
    "header = {'user-agent': 'Mozilla/5.0 (Macintosh; Intel Mac OS X 10_15_4) AppleWebKit/537.36 (KHTML, like Gecko) Chrome/80.0.3987.163 Safari/537.36'}   "
   ]
  },
  {
   "cell_type": "code",
   "execution_count": 305,
   "metadata": {},
   "outputs": [],
   "source": [
    "#urlr = 'https://www.metacritic.com/game/xbox-one/nidhogg-2'\n",
    "#url = 'https://www.metacritic.com{}'.format(\"\")"
   ]
  },
  {
   "cell_type": "code",
   "execution_count": 306,
   "metadata": {},
   "outputs": [],
   "source": [
    "#response_soupr = requests.get(urlr , headers = header)"
   ]
  },
  {
   "cell_type": "code",
   "execution_count": 307,
   "metadata": {},
   "outputs": [],
   "source": [
    "#soupr = BeautifulSoup(response_soupr.text, 'html.parser')"
   ]
  },
  {
   "cell_type": "code",
   "execution_count": 158,
   "metadata": {},
   "outputs": [
    {
     "data": {
      "text/plain": [
       "'The Witcher 3: Wild Hunt - Blood and Wine'"
      ]
     },
     "execution_count": 158,
     "metadata": {},
     "output_type": "execute_result"
    }
   ],
   "source": [
    "## First go to website find what you want\n",
    "## then keep going up in class until you find something with a unique title, grab that\n",
    "title = soupr.findAll('div', {'class' : \"product_title\"})\n",
    "\n",
    "# now we have a much smaller section to look through and grab the piece of info we ashley care about\n",
    "title[0]"
   ]
  },
  {
   "cell_type": "code",
   "execution_count": 132,
   "metadata": {},
   "outputs": [
    {
     "data": {
      "text/plain": [
       "<span>97</span>"
      ]
     },
     "execution_count": 132,
     "metadata": {},
     "output_type": "execute_result"
    }
   ],
   "source": [
    "metascores = soupr.findAll('div', {'class' : \"metascore_wrap highlight_metascore\"})\n",
    "\n",
    "metascore = metascores[0].span.text"
   ]
  },
  {
   "cell_type": "code",
   "execution_count": 18,
   "metadata": {},
   "outputs": [
    {
     "data": {
      "text/plain": [
       "'33'"
      ]
     },
     "execution_count": 18,
     "metadata": {},
     "output_type": "execute_result"
    }
   ],
   "source": [
    "metascore_review = soupr.findAll('span', {'class' : \"count\"})\n",
    "metascore_reviews = metascore_review[0].text.replace('\\n', '').split()\n",
    "metascore_reviews[3]"
   ]
  },
  {
   "cell_type": "code",
   "execution_count": 126,
   "metadata": {},
   "outputs": [
    {
     "data": {
      "text/plain": [
       "'7.7'"
      ]
     },
     "execution_count": 126,
     "metadata": {},
     "output_type": "execute_result"
    }
   ],
   "source": [
    "user_scores = soupr.findAll('div', {'class' : \"userscore_wrap feature_userscore\"})\n",
    "\n",
    "user_score = user_scores[0].text.replace('\\n', ' ').split()[2]\n",
    "user_score"
   ]
  },
  {
   "cell_type": "code",
   "execution_count": 316,
   "metadata": {},
   "outputs": [
    {
     "data": {
      "text/plain": [
       "'No user score yet'"
      ]
     },
     "execution_count": 316,
     "metadata": {},
     "output_type": "execute_result"
    }
   ],
   "source": [
    "user_review = soupr.findAll('div', {'class' : \"details side_details\"})\n",
    "user_review[0].p.span.text"
   ]
  },
  {
   "cell_type": "code",
   "execution_count": 21,
   "metadata": {},
   "outputs": [
    {
     "data": {
      "text/plain": [
       "'M'"
      ]
     },
     "execution_count": 21,
     "metadata": {},
     "output_type": "execute_result"
    }
   ],
   "source": [
    "content_rating = soupr.findAll('li', {'class' : \"summary_detail product_rating\"})\n",
    "content_rating[0].text.replace('\\n', ' ').split()[1]"
   ]
  },
  {
   "cell_type": "code",
   "execution_count": 33,
   "metadata": {},
   "outputs": [
    {
     "data": {
      "text/plain": [
       "['Action Adventure, Open-World']"
      ]
     },
     "execution_count": 33,
     "metadata": {},
     "output_type": "execute_result"
    }
   ],
   "source": [
    "publisher = soupr.findAll('li', {'class' : \"summary_detail product_genre\"})\n",
    "[' '.join(publisher[0].text.replace('\\n', ' ').split()[1:])]"
   ]
  },
  {
   "cell_type": "code",
   "execution_count": 35,
   "metadata": {},
   "outputs": [
    {
     "data": {
      "text/plain": [
       "'Rockstar Games'"
      ]
     },
     "execution_count": 35,
     "metadata": {},
     "output_type": "execute_result"
    }
   ],
   "source": [
    "genres = soupr.findAll('li', {'class' : \"summary_detail developer\"})\n",
    "' '.join(genres[0].text.replace('\\n', ' ').split()[1:])"
   ]
  },
  {
   "cell_type": "code",
   "execution_count": 66,
   "metadata": {},
   "outputs": [
    {
     "data": {
      "text/plain": [
       "'Oct 26, 2018'"
      ]
     },
     "execution_count": 66,
     "metadata": {},
     "output_type": "execute_result"
    }
   ],
   "source": [
    "release_date = soupr.findAll('li', {'class' : \"summary_detail release_data\"})\n",
    "' '.join(release_date[0].text.replace('\\n', ' ').split()[2:])\n"
   ]
  },
  {
   "cell_type": "code",
   "execution_count": 260,
   "metadata": {
    "collapsed": true
   },
   "outputs": [
    {
     "data": {
      "text/plain": [
       "<ol class=\"score_counts hover_none\">\n",
       "<li class=\"score_count\">\n",
       "<div class=\"count_wrap\">\n",
       "<span class=\"label\">Positive:</span>\n",
       "<span class=\"data\">\n",
       "<a href=\"/game/xbox-one/red-dead-redemption-2/critic-reviews?dist=positive\"> <span class=\"total\" style=\"width:100%;\">\n",
       "<span class=\"count\">33</span>\n",
       "<span class=\"distribution positive\"> out of 33</span>\n",
       "</span>\n",
       "</a> </span>\n",
       "</div>\n",
       "</li>\n",
       "<li class=\"score_count\">\n",
       "<div class=\"count_wrap\">\n",
       "<span class=\"label\">Mixed:</span>\n",
       "<span class=\"data\">\n",
       "<span class=\"total zero_total\" style=\"width:0%;\">\n",
       "<span class=\"count\">0</span>\n",
       "<span class=\"distribution mixed\"> out of 33</span>\n",
       "</span>\n",
       "</span>\n",
       "</div>\n",
       "</li>\n",
       "<li class=\"score_count\">\n",
       "<div class=\"count_wrap\">\n",
       "<span class=\"label\">Negative:</span>\n",
       "<span class=\"data\">\n",
       "<span class=\"total zero_total\" style=\"width:0%;\">\n",
       "<span class=\"count\">0</span>\n",
       "<span class=\"distribution negative\"> out of 33</span>\n",
       "</span>\n",
       "</span>\n",
       "</div>\n",
       "</li>\n",
       "</ol>"
      ]
     },
     "execution_count": 260,
     "metadata": {},
     "output_type": "execute_result"
    }
   ],
   "source": [
    "# finding hyperlink for all games in metacritic\n",
    "games = soup.select('ol', {'class' : \"list_products list_product_condensed\"})\n",
    "\n",
    "games[0]\n"
   ]
  },
  {
   "cell_type": "code",
   "execution_count": 5,
   "metadata": {},
   "outputs": [],
   "source": [
    "# urlb = 'https://www.metacritic.com/browse/games/release-date/available/xboxone/metascore?page=0'\n",
    "# response_soup = requests.get(urlb, headers = header)\n",
    "# soup = BeautifulSoup(response_soup.text, 'html.parser')"
   ]
  },
  {
   "cell_type": "code",
   "execution_count": 213,
   "metadata": {},
   "outputs": [],
   "source": [
    "\n",
    "all_hyperlink = []\n",
    "def get_game_links_from_site(url, header):\n",
    "    response_soup = requests.get(url, headers = header)\n",
    "    soup = BeautifulSoup(response_soup.text, 'html.parser')\n",
    "\n",
    "    game_table = soup.find_all('ol', class_=\"list_products list_product_condensed\")\n",
    "\n",
    "    for game in game_table:\n",
    "        game_links_html = game.find_all('a', href=True)\n",
    "        if game_links_html == []:\n",
    "            time.sleep(5)\n",
    "            game_links_html = game.find_all('a', href=True)\n",
    "        \n",
    "        for game_link in game_links_html:\n",
    "            all_hyperlink.append(game_link['href'])\n",
    "           # print(game_link['href'])\n",
    "    return all_hyperlink\n",
    "\n",
    "\n",
    "\n",
    "for i in range(0, 9):\n",
    "    url = 'https://www.metacritic.com/browse/games/release-date/available/xboxone/metascore?page={}'.format(i)        \n",
    "    get_game_links_from_site(url, header)\n",
    "    #print(len(all_hyperlinks))\n",
    "    \n"
   ]
  },
  {
   "cell_type": "code",
   "execution_count": 9,
   "metadata": {},
   "outputs": [
    {
     "data": {
      "text/plain": [
       "1621"
      ]
     },
     "execution_count": 9,
     "metadata": {},
     "output_type": "execute_result"
    }
   ],
   "source": [
    "len(all_hyperlink)"
   ]
  },
  {
   "cell_type": "code",
   "execution_count": 60,
   "metadata": {},
   "outputs": [
    {
     "data": {
      "text/plain": [
       "1621"
      ]
     },
     "execution_count": 60,
     "metadata": {},
     "output_type": "execute_result"
    }
   ],
   "source": [
    "len(hyperlink_list)"
   ]
  },
  {
   "cell_type": "code",
   "execution_count": 3,
   "metadata": {},
   "outputs": [],
   "source": [
    "\n",
    "# metacritic_dict - {\n",
    "#     'title' : None\n",
    "#     'metacritic_score': None\n",
    "#     'metacritic_review_count' : None\n",
    "#     'user_score' : None\n",
    "#     'user_review_count' : None\n",
    "#     'content_rating' : None\n",
    "#     'publisher' : None\n",
    "#     'genres' : None\n",
    "#     'release_date' : None\n",
    "# }\n",
    "\n",
    "# metacritic_dataframe_list = []\n",
    "\n",
    "def get_data_from_each_game (url):   \n",
    "#     try:\n",
    "    response_soup = requests.get(url, headers = header)\n",
    "    soup = BeautifulSoup(response_soup.text, 'html.parser')\n",
    "\n",
    "    title = soup.findAll('div', {'class' : \"product_title\"})\n",
    "\n",
    "    metascores = soup.findAll('div', {'class' : \"metascore_wrap highlight_metascore\"})\n",
    "\n",
    "    metascore_review = soup.findAll('span', {'class' : \"count\"})\n",
    "\n",
    "    user_scores = soup.findAll('div', {'class' : \"userscore_wrap feature_userscore\"})\n",
    "\n",
    "    user_review = soup.findAll('div', {'class' : \"details side_details\"})\n",
    "\n",
    "    content_rating = soup.findAll('li', {'class' : \"summary_detail product_rating\"})\n",
    "\n",
    "    genres = soup.findAll('li', {'class' : \"summary_detail product_genre\"})\n",
    "\n",
    "    developer = soup.findAll('li', {'class' : \"summary_detail developer\"})\n",
    "\n",
    "    release_date = soup.findAll('li', {'class' : \"summary_detail release_data\"})\n",
    "\n",
    "    try:\n",
    "        metacritic_dict = {\n",
    "            'title': title[0].h1.text,\n",
    "            'metacritic_score': metascores[0].span.text,\n",
    "            'metacritic_review_count': metascore_review[0].text.replace('\\n', '').split()[3],\n",
    "            'user_score': user_scores[0].text.replace('\\n', ' ').split()[2],\n",
    "            'user_review_count': user_review[0].p.a.text.split()[0],\n",
    "            'content_rating': content_rating[0].text.replace('\\n', ' ').split()[1],\n",
    "            'developer':' '.join(developer[0].text.replace('\\n', ' ').split()[1:]),\n",
    "            'genres': [' '.join(genres[0].text.replace('\\n', ' ').split()[1:])],\n",
    "            'release_date': ' '.join(release_date[0].text.replace('\\n', ' ').split()[2:])\n",
    "        }\n",
    "    except AttributeError:\n",
    "        metacritic_dict = {\n",
    "            'title': title[0].h1.text,\n",
    "            'metacritic_score': metascores[0].span.text,\n",
    "            'metacritic_review_count': metascore_review[0].text.replace('\\n', '').split()[3],\n",
    "            'user_score': user_scores[0].text.replace('\\n', ' ').split()[2],\n",
    "            'user_review_count': user_review[0].p.span.text,\n",
    "            'content_rating': content_rating[0].text.replace('\\n', ' ').split()[1],\n",
    "            'developer':' '.join(developer[0].text.replace('\\n', ' ').split()[1:]),\n",
    "            'genres': [' '.join(genres[0].text.replace('\\n', ' ').split()[1:])],\n",
    "            'release_date': ' '.join(release_date[0].text.replace('\\n', ' ').split()[2:])\n",
    "        }\n",
    "\n",
    "    metacritic_dataframe_list.append(metacritic_dict)\n",
    "#     except IndexError as e:\n",
    "#         pass\n",
    "    return metacritic_dataframe_list\n",
    "    "
   ]
  },
  {
   "cell_type": "code",
   "execution_count": 21,
   "metadata": {},
   "outputs": [],
   "source": [
    "errors = []\n",
    "for link in all_hyperlink:\n",
    "    try: \n",
    "        urlr = 'https://www.metacritic.com{}'.format(link)\n",
    "        get_data_from_each_game(urlr)\n",
    "    except IndexError as e:\n",
    "        errors.append(link)"
   ]
  },
  {
   "cell_type": "code",
   "execution_count": 10,
   "metadata": {},
   "outputs": [],
   "source": [
    "new_errors = []\n",
    "for link in errors:\n",
    "    try: \n",
    "        urlr = 'https://www.metacritic.com{}'.format(link)\n",
    "        get_data_from_each_game(urlr)\n",
    "    except IndexError as e:\n",
    "        new_errors.append(link)"
   ]
  },
  {
   "cell_type": "code",
   "execution_count": 13,
   "metadata": {},
   "outputs": [],
   "source": [
    "errors = []\n",
    "for link in new_errors:\n",
    "    try: \n",
    "        urlr = 'https://www.metacritic.com{}'.format(link)\n",
    "        get_data_from_each_game(urlr)\n",
    "    except IndexError as e:\n",
    "        errors.append(link)"
   ]
  },
  {
   "cell_type": "code",
   "execution_count": 14,
   "metadata": {},
   "outputs": [
    {
     "data": {
      "text/plain": [
       "1505"
      ]
     },
     "execution_count": 14,
     "metadata": {},
     "output_type": "execute_result"
    }
   ],
   "source": [
    "len(metacritic_dataframe_list)"
   ]
  },
  {
   "cell_type": "code",
   "execution_count": 18,
   "metadata": {},
   "outputs": [
    {
     "data": {
      "text/plain": [
       "'/game/xbox-one/zen-pinball-2-bethesda-pinball'"
      ]
     },
     "execution_count": 18,
     "metadata": {},
     "output_type": "execute_result"
    }
   ],
   "source": [
    "errors[0]"
   ]
  },
  {
   "cell_type": "code",
   "execution_count": 5,
   "metadata": {},
   "outputs": [],
   "source": [
    "import pickle"
   ]
  },
  {
   "cell_type": "code",
   "execution_count": 6,
   "metadata": {},
   "outputs": [],
   "source": [
    "with open('hyperlink_list', 'rb') as handle:\n",
    "    all_hyperlink = pickle.load(handle)\n",
    "    \n",
    "with open('error_urls', 'rb') as handle:\n",
    "    errors = pickle.load(handle)\n",
    "\n",
    "with open('working_list', 'rb') as handle:\n",
    "    metacritic_dataframe_list = pickle.load(handle)"
   ]
  },
  {
   "cell_type": "code",
   "execution_count": 75,
   "metadata": {},
   "outputs": [],
   "source": [
    "with open('hyperlink_list', 'wb') as handle:\n",
    "    pickle.dump(all_hyperlink, handle, protocol=pickle.HIGHEST_PROTOCOL)\n",
    "\n",
    "with open('working_list', 'wb') as handle:\n",
    "    pickle.dump(metacritic_dataframe_list, handle, protocol=pickle.HIGHEST_PROTOCOL)\n",
    "    \n",
    "with open('error_urls', 'wb') as handle:\n",
    "    pickle.dump(errors, handle, protocol=pickle.HIGHEST_PROTOCOL)"
   ]
  },
  {
   "cell_type": "code",
   "execution_count": null,
   "metadata": {},
   "outputs": [],
   "source": []
  },
  {
   "cell_type": "code",
   "execution_count": null,
   "metadata": {},
   "outputs": [],
   "source": []
  },
  {
   "cell_type": "code",
   "execution_count": 51,
   "metadata": {},
   "outputs": [],
   "source": [
    "df = pd.DataFrame(metacritic_dataframe_list)"
   ]
  },
  {
   "cell_type": "code",
   "execution_count": 52,
   "metadata": {},
   "outputs": [],
   "source": [
    "df.user_score.replace('tbd', np.nan, inplace=True)\n"
   ]
  },
  {
   "cell_type": "code",
   "execution_count": 69,
   "metadata": {},
   "outputs": [
    {
     "data": {
      "text/html": [
       "<div>\n",
       "<style scoped>\n",
       "    .dataframe tbody tr th:only-of-type {\n",
       "        vertical-align: middle;\n",
       "    }\n",
       "\n",
       "    .dataframe tbody tr th {\n",
       "        vertical-align: top;\n",
       "    }\n",
       "\n",
       "    .dataframe thead th {\n",
       "        text-align: right;\n",
       "    }\n",
       "</style>\n",
       "<table border=\"1\" class=\"dataframe\">\n",
       "  <thead>\n",
       "    <tr style=\"text-align: right;\">\n",
       "      <th></th>\n",
       "      <th>title</th>\n",
       "      <th>metacritic_score</th>\n",
       "      <th>metacritic_review_count</th>\n",
       "      <th>user_score</th>\n",
       "      <th>user_review_count</th>\n",
       "      <th>content_rating</th>\n",
       "      <th>developer</th>\n",
       "      <th>genres</th>\n",
       "      <th>release_date</th>\n",
       "    </tr>\n",
       "  </thead>\n",
       "  <tbody>\n",
       "    <tr>\n",
       "      <th>0</th>\n",
       "      <td>Red Dead Redemption 2</td>\n",
       "      <td>97.0</td>\n",
       "      <td>33</td>\n",
       "      <td>7.7</td>\n",
       "      <td>2413</td>\n",
       "      <td>M</td>\n",
       "      <td>Rockstar Games</td>\n",
       "      <td>[Action Adventure, Open-World]</td>\n",
       "      <td>Oct 26, 2018</td>\n",
       "    </tr>\n",
       "    <tr>\n",
       "      <th>1</th>\n",
       "      <td>Metal Gear Solid V: The Phantom Pain</td>\n",
       "      <td>95.0</td>\n",
       "      <td>10</td>\n",
       "      <td>7.4</td>\n",
       "      <td>1111</td>\n",
       "      <td>M</td>\n",
       "      <td>Kojima Productions, Moby Dick Studio</td>\n",
       "      <td>[Modern, Modern, Action Adventure, Open-World]</td>\n",
       "      <td>Sep 1, 2015</td>\n",
       "    </tr>\n",
       "    <tr>\n",
       "      <th>2</th>\n",
       "      <td>The Witcher 3: Wild Hunt - Blood and Wine</td>\n",
       "      <td>94.0</td>\n",
       "      <td>6</td>\n",
       "      <td>8.7</td>\n",
       "      <td>408</td>\n",
       "      <td>M</td>\n",
       "      <td>CD Projekt Red Studio</td>\n",
       "      <td>[Role-Playing, Action RPG]</td>\n",
       "      <td>May 31, 2016</td>\n",
       "    </tr>\n",
       "    <tr>\n",
       "      <th>3</th>\n",
       "      <td>Resident Evil 2</td>\n",
       "      <td>93.0</td>\n",
       "      <td>27</td>\n",
       "      <td>8.6</td>\n",
       "      <td>804</td>\n",
       "      <td>M</td>\n",
       "      <td>Capcom R&amp;D Division 1</td>\n",
       "      <td>[Action Adventure, Survival]</td>\n",
       "      <td>Jan 25, 2019</td>\n",
       "    </tr>\n",
       "    <tr>\n",
       "      <th>4</th>\n",
       "      <td>INSIDE</td>\n",
       "      <td>93.0</td>\n",
       "      <td>87</td>\n",
       "      <td>8.3</td>\n",
       "      <td>629</td>\n",
       "      <td>M</td>\n",
       "      <td>PLAYDEAD</td>\n",
       "      <td>[Action, Platformer, 2D]</td>\n",
       "      <td>Jun 29, 2016</td>\n",
       "    </tr>\n",
       "    <tr>\n",
       "      <th>...</th>\n",
       "      <td>...</td>\n",
       "      <td>...</td>\n",
       "      <td>...</td>\n",
       "      <td>...</td>\n",
       "      <td>...</td>\n",
       "      <td>...</td>\n",
       "      <td>...</td>\n",
       "      <td>...</td>\n",
       "      <td>...</td>\n",
       "    </tr>\n",
       "    <tr>\n",
       "      <th>1500</th>\n",
       "      <td>Battlezone: Gold Edition</td>\n",
       "      <td>75.0</td>\n",
       "      <td>7</td>\n",
       "      <td>NaN</td>\n",
       "      <td>No user score yet</td>\n",
       "      <td>T</td>\n",
       "      <td>Rebellion</td>\n",
       "      <td>[Action, Arcade]</td>\n",
       "      <td>May 1, 2018</td>\n",
       "    </tr>\n",
       "    <tr>\n",
       "      <th>1501</th>\n",
       "      <td>Steamroll</td>\n",
       "      <td>74.0</td>\n",
       "      <td>5</td>\n",
       "      <td>NaN</td>\n",
       "      <td>No user score yet</td>\n",
       "      <td>E10+</td>\n",
       "      <td>Anticto</td>\n",
       "      <td>[Action, Platformer, 3D]</td>\n",
       "      <td>Jan 25, 2019</td>\n",
       "    </tr>\n",
       "    <tr>\n",
       "      <th>1502</th>\n",
       "      <td>Celeste</td>\n",
       "      <td>94.0</td>\n",
       "      <td>10</td>\n",
       "      <td>6.9</td>\n",
       "      <td>228</td>\n",
       "      <td>E10+</td>\n",
       "      <td>Matt Makes Games Inc.</td>\n",
       "      <td>[Action, Platformer, 2D]</td>\n",
       "      <td>Jan 26, 2018</td>\n",
       "    </tr>\n",
       "    <tr>\n",
       "      <th>1503</th>\n",
       "      <td>LEGO Harry Potter Collection</td>\n",
       "      <td>73.0</td>\n",
       "      <td>8</td>\n",
       "      <td>7.5</td>\n",
       "      <td>4</td>\n",
       "      <td>E10+</td>\n",
       "      <td>Warner Bros. Interactive Entertainment</td>\n",
       "      <td>[Miscellaneous, Compilation]</td>\n",
       "      <td>Oct 30, 2018</td>\n",
       "    </tr>\n",
       "    <tr>\n",
       "      <th>1504</th>\n",
       "      <td>Minecraft: Story Mode Season Two - Episode 4: ...</td>\n",
       "      <td>71.0</td>\n",
       "      <td>4</td>\n",
       "      <td>6.8</td>\n",
       "      <td>4</td>\n",
       "      <td>E10+</td>\n",
       "      <td>Telltale Games</td>\n",
       "      <td>[Adventure, Point-and-Click]</td>\n",
       "      <td>Nov 7, 2017</td>\n",
       "    </tr>\n",
       "  </tbody>\n",
       "</table>\n",
       "<p>1505 rows × 9 columns</p>\n",
       "</div>"
      ],
      "text/plain": [
       "                                                  title  metacritic_score  \\\n",
       "0                                 Red Dead Redemption 2              97.0   \n",
       "1                  Metal Gear Solid V: The Phantom Pain              95.0   \n",
       "2             The Witcher 3: Wild Hunt - Blood and Wine              94.0   \n",
       "3                                       Resident Evil 2              93.0   \n",
       "4                                                INSIDE              93.0   \n",
       "...                                                 ...               ...   \n",
       "1500                           Battlezone: Gold Edition              75.0   \n",
       "1501                                          Steamroll              74.0   \n",
       "1502                                            Celeste              94.0   \n",
       "1503                       LEGO Harry Potter Collection              73.0   \n",
       "1504  Minecraft: Story Mode Season Two - Episode 4: ...              71.0   \n",
       "\n",
       "     metacritic_review_count  user_score  user_review_count content_rating  \\\n",
       "0                         33         7.7               2413              M   \n",
       "1                         10         7.4               1111              M   \n",
       "2                          6         8.7                408              M   \n",
       "3                         27         8.6                804              M   \n",
       "4                         87         8.3                629              M   \n",
       "...                      ...         ...                ...            ...   \n",
       "1500                       7         NaN  No user score yet              T   \n",
       "1501                       5         NaN  No user score yet           E10+   \n",
       "1502                      10         6.9                228           E10+   \n",
       "1503                       8         7.5                  4           E10+   \n",
       "1504                       4         6.8                  4           E10+   \n",
       "\n",
       "                                   developer  \\\n",
       "0                             Rockstar Games   \n",
       "1       Kojima Productions, Moby Dick Studio   \n",
       "2                      CD Projekt Red Studio   \n",
       "3                      Capcom R&D Division 1   \n",
       "4                                   PLAYDEAD   \n",
       "...                                      ...   \n",
       "1500                               Rebellion   \n",
       "1501                                 Anticto   \n",
       "1502                   Matt Makes Games Inc.   \n",
       "1503  Warner Bros. Interactive Entertainment   \n",
       "1504                          Telltale Games   \n",
       "\n",
       "                                              genres  release_date  \n",
       "0                     [Action Adventure, Open-World]  Oct 26, 2018  \n",
       "1     [Modern, Modern, Action Adventure, Open-World]   Sep 1, 2015  \n",
       "2                         [Role-Playing, Action RPG]  May 31, 2016  \n",
       "3                       [Action Adventure, Survival]  Jan 25, 2019  \n",
       "4                           [Action, Platformer, 2D]  Jun 29, 2016  \n",
       "...                                              ...           ...  \n",
       "1500                                [Action, Arcade]   May 1, 2018  \n",
       "1501                        [Action, Platformer, 3D]  Jan 25, 2019  \n",
       "1502                        [Action, Platformer, 2D]  Jan 26, 2018  \n",
       "1503                    [Miscellaneous, Compilation]  Oct 30, 2018  \n",
       "1504                    [Adventure, Point-and-Click]   Nov 7, 2017  \n",
       "\n",
       "[1505 rows x 9 columns]"
      ]
     },
     "execution_count": 69,
     "metadata": {},
     "output_type": "execute_result"
    }
   ],
   "source": [
    "df"
   ]
  },
  {
   "cell_type": "code",
   "execution_count": 56,
   "metadata": {},
   "outputs": [],
   "source": [
    "flt_user_scores = []\n",
    "for x in df['user_score']:\n",
    "        int_user_scores.append(float(x))\n",
    "        \n",
    "df['user_score'] = flt_user_scores\n",
    "\n",
    "df['user_score'][0]"
   ]
  },
  {
   "cell_type": "code",
   "execution_count": 68,
   "metadata": {},
   "outputs": [
    {
     "data": {
      "text/plain": [
       "97.0"
      ]
     },
     "execution_count": 68,
     "metadata": {},
     "output_type": "execute_result"
    }
   ],
   "source": [
    "flt_meta_scores = []\n",
    "for x in df['metacritic_score']:\n",
    "        flt_meta_scores.append(float(x))\n",
    "        \n",
    "df['metacritic_score'] = flt_meta_scores\n",
    "\n",
    "df['metacritic_score'][0]"
   ]
  },
  {
   "cell_type": "code",
   "execution_count": 70,
   "metadata": {},
   "outputs": [
    {
     "data": {
      "text/plain": [
       "33.0"
      ]
     },
     "execution_count": 70,
     "metadata": {},
     "output_type": "execute_result"
    }
   ],
   "source": [
    "flt_meta_reviews = []\n",
    "for x in df['metacritic_review_count']:\n",
    "        flt_meta_reviews.append(float(x))\n",
    "        \n",
    "df['metacritic_review_count'] = flt_meta_reviews\n",
    "\n",
    "df['metacritic_review_count'][0]"
   ]
  },
  {
   "cell_type": "code",
   "execution_count": null,
   "metadata": {},
   "outputs": [],
   "source": [
    "flt_meta_reviews = []\n",
    "for x in df['metacritic_review_count']:\n",
    "        flt_meta_reviews.append(float(x))\n",
    "        \n",
    "df['metacritic_review_count'] = flt_meta_reviews\n",
    "\n",
    "df['metacritic_review_count'][0]"
   ]
  },
  {
   "cell_type": "code",
   "execution_count": 71,
   "metadata": {},
   "outputs": [
    {
     "data": {
      "text/plain": [
       "2413.0"
      ]
     },
     "execution_count": 71,
     "metadata": {},
     "output_type": "execute_result"
    }
   ],
   "source": [
    "df.user_review_count.replace('No user score yet', np.nan, inplace=True)\n",
    "\n",
    "flt_user_reviews = []\n",
    "for x in df['user_review_count']:\n",
    "        flt_user_reviews.append(float(x))\n",
    "        \n",
    "df['user_review_count'] = flt_user_reviews\n",
    "\n",
    "df['user_review_count'][0]"
   ]
  },
  {
   "cell_type": "code",
   "execution_count": 74,
   "metadata": {},
   "outputs": [],
   "source": [
    "df.to_csv('metacritic_reviews.csv')"
   ]
  },
  {
   "cell_type": "code",
   "execution_count": null,
   "metadata": {},
   "outputs": [],
   "source": []
  }
 ],
 "metadata": {
  "kernelspec": {
   "display_name": "Python 3",
   "language": "python",
   "name": "python3"
  },
  "language_info": {
   "codemirror_mode": {
    "name": "ipython",
    "version": 3
   },
   "file_extension": ".py",
   "mimetype": "text/x-python",
   "name": "python",
   "nbconvert_exporter": "python",
   "pygments_lexer": "ipython3",
   "version": "3.7.6"
  }
 },
 "nbformat": 4,
 "nbformat_minor": 4
}
