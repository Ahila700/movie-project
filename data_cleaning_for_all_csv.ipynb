{
 "cells": [
  {
   "cell_type": "code",
   "execution_count": 1,
   "metadata": {},
   "outputs": [],
   "source": [
    "import pandas as pd\n",
    "import numpy as np"
   ]
  },
  {
   "cell_type": "code",
   "execution_count": 2,
   "metadata": {},
   "outputs": [],
   "source": [
    "df1 = pd.read_csv('metacritic_reviews.csv', index_col=0)\n",
    "df2 = pd.read_csv('game_sales.csv', index_col=0)\n",
    "df3 = pd.read_csv('gamespot_reviews.csv', index_col=0)\n",
    "metacritic_w_sales = pd.read_csv('metacritic_w_sales.csv', index_col = 0)\n",
    "df5 = pd.read_csv('gamespot_w_sales.csv', index_col = 0)\n",
    "df6 = pd.read_csv('box_office_video_game_movies.csv', index_col = 0)"
   ]
  },
  {
   "cell_type": "code",
   "execution_count": 88,
   "metadata": {},
   "outputs": [],
   "source": [
    "# changing gamespot title column to game\n",
    "df3 = df3.rename(columns = {'Title': 'Game'})"
   ]
  },
  {
   "cell_type": "code",
   "execution_count": 89,
   "metadata": {},
   "outputs": [],
   "source": [
    "# merging gamespot and sales\n",
    "gamespot_w_sales = pd.merge(df3, df2, on = 'Game')"
   ]
  },
  {
   "cell_type": "code",
   "execution_count": 91,
   "metadata": {
    "collapsed": true
   },
   "outputs": [
    {
     "data": {
      "text/html": [
       "<div>\n",
       "<style scoped>\n",
       "    .dataframe tbody tr th:only-of-type {\n",
       "        vertical-align: middle;\n",
       "    }\n",
       "\n",
       "    .dataframe tbody tr th {\n",
       "        vertical-align: top;\n",
       "    }\n",
       "\n",
       "    .dataframe thead th {\n",
       "        text-align: right;\n",
       "    }\n",
       "</style>\n",
       "<table border=\"1\" class=\"dataframe\">\n",
       "  <thead>\n",
       "    <tr style=\"text-align: right;\">\n",
       "      <th></th>\n",
       "      <th>score</th>\n",
       "      <th>Game</th>\n",
       "      <th>Year</th>\n",
       "      <th>Publisher</th>\n",
       "      <th>North America</th>\n",
       "      <th>Europe</th>\n",
       "      <th>Japan</th>\n",
       "      <th>Rest of World</th>\n",
       "      <th>Global</th>\n",
       "    </tr>\n",
       "  </thead>\n",
       "  <tbody>\n",
       "    <tr>\n",
       "      <th>30</th>\n",
       "      <td>9.0</td>\n",
       "      <td>grand theft auto v</td>\n",
       "      <td>2014.0</td>\n",
       "      <td>Rockstar Games</td>\n",
       "      <td>4.70</td>\n",
       "      <td>3.25</td>\n",
       "      <td>0.01</td>\n",
       "      <td>0.76</td>\n",
       "      <td>8.72</td>\n",
       "    </tr>\n",
       "    <tr>\n",
       "      <th>141</th>\n",
       "      <td>7.0</td>\n",
       "      <td>call of duty: black ops 3</td>\n",
       "      <td>2015.0</td>\n",
       "      <td>Activision</td>\n",
       "      <td>4.63</td>\n",
       "      <td>2.04</td>\n",
       "      <td>0.02</td>\n",
       "      <td>0.68</td>\n",
       "      <td>7.37</td>\n",
       "    </tr>\n",
       "    <tr>\n",
       "      <th>234</th>\n",
       "      <td>9.0</td>\n",
       "      <td>call of duty: wwii</td>\n",
       "      <td>2017.0</td>\n",
       "      <td>Activision</td>\n",
       "      <td>3.75</td>\n",
       "      <td>1.91</td>\n",
       "      <td>0.00</td>\n",
       "      <td>0.57</td>\n",
       "      <td>6.23</td>\n",
       "    </tr>\n",
       "    <tr>\n",
       "      <th>11</th>\n",
       "      <td>8.5</td>\n",
       "      <td>minecraft</td>\n",
       "      <td>2014.0</td>\n",
       "      <td>Microsoft Studios</td>\n",
       "      <td>3.23</td>\n",
       "      <td>1.71</td>\n",
       "      <td>0.00</td>\n",
       "      <td>0.49</td>\n",
       "      <td>5.43</td>\n",
       "    </tr>\n",
       "    <tr>\n",
       "      <th>80</th>\n",
       "      <td>8.0</td>\n",
       "      <td>call of duty: advanced warfare</td>\n",
       "      <td>2014.0</td>\n",
       "      <td>Activision</td>\n",
       "      <td>3.25</td>\n",
       "      <td>1.49</td>\n",
       "      <td>0.01</td>\n",
       "      <td>0.48</td>\n",
       "      <td>5.22</td>\n",
       "    </tr>\n",
       "    <tr>\n",
       "      <th>...</th>\n",
       "      <td>...</td>\n",
       "      <td>...</td>\n",
       "      <td>...</td>\n",
       "      <td>...</td>\n",
       "      <td>...</td>\n",
       "      <td>...</td>\n",
       "      <td>...</td>\n",
       "      <td>...</td>\n",
       "      <td>...</td>\n",
       "    </tr>\n",
       "    <tr>\n",
       "      <th>62</th>\n",
       "      <td>7.0</td>\n",
       "      <td>shovel knight</td>\n",
       "      <td>2015.0</td>\n",
       "      <td>Yacht Club Games</td>\n",
       "      <td>0.00</td>\n",
       "      <td>0.00</td>\n",
       "      <td>0.00</td>\n",
       "      <td>0.00</td>\n",
       "      <td>0.00</td>\n",
       "    </tr>\n",
       "    <tr>\n",
       "      <th>56</th>\n",
       "      <td>8.0</td>\n",
       "      <td>super time force</td>\n",
       "      <td>NaN</td>\n",
       "      <td>NaN</td>\n",
       "      <td>0.00</td>\n",
       "      <td>0.00</td>\n",
       "      <td>0.00</td>\n",
       "      <td>0.00</td>\n",
       "      <td>0.00</td>\n",
       "    </tr>\n",
       "    <tr>\n",
       "      <th>55</th>\n",
       "      <td>5.0</td>\n",
       "      <td>the amazing spider-man 2</td>\n",
       "      <td>2014.0</td>\n",
       "      <td>Activision</td>\n",
       "      <td>0.00</td>\n",
       "      <td>0.00</td>\n",
       "      <td>0.00</td>\n",
       "      <td>0.00</td>\n",
       "      <td>0.00</td>\n",
       "    </tr>\n",
       "    <tr>\n",
       "      <th>48</th>\n",
       "      <td>6.0</td>\n",
       "      <td>max: the curse of brotherhood</td>\n",
       "      <td>NaN</td>\n",
       "      <td>NaN</td>\n",
       "      <td>0.00</td>\n",
       "      <td>0.00</td>\n",
       "      <td>0.00</td>\n",
       "      <td>0.00</td>\n",
       "      <td>0.00</td>\n",
       "    </tr>\n",
       "    <tr>\n",
       "      <th>0</th>\n",
       "      <td>5.8</td>\n",
       "      <td>industry giant ii</td>\n",
       "      <td>2017.0</td>\n",
       "      <td>UIG Entertainment</td>\n",
       "      <td>0.00</td>\n",
       "      <td>0.00</td>\n",
       "      <td>0.00</td>\n",
       "      <td>0.00</td>\n",
       "      <td>0.00</td>\n",
       "    </tr>\n",
       "  </tbody>\n",
       "</table>\n",
       "<p>242 rows × 9 columns</p>\n",
       "</div>"
      ],
      "text/plain": [
       "     score                            Game    Year          Publisher  \\\n",
       "30     9.0              grand theft auto v  2014.0     Rockstar Games   \n",
       "141    7.0       call of duty: black ops 3  2015.0         Activision   \n",
       "234    9.0              call of duty: wwii  2017.0         Activision   \n",
       "11     8.5                       minecraft  2014.0  Microsoft Studios   \n",
       "80     8.0  call of duty: advanced warfare  2014.0         Activision   \n",
       "..     ...                             ...     ...                ...   \n",
       "62     7.0                   shovel knight  2015.0   Yacht Club Games   \n",
       "56     8.0                super time force     NaN                NaN   \n",
       "55     5.0        the amazing spider-man 2  2014.0         Activision   \n",
       "48     6.0   max: the curse of brotherhood     NaN                NaN   \n",
       "0      5.8               industry giant ii  2017.0  UIG Entertainment   \n",
       "\n",
       "     North America  Europe  Japan  Rest of World  Global  \n",
       "30            4.70    3.25   0.01           0.76    8.72  \n",
       "141           4.63    2.04   0.02           0.68    7.37  \n",
       "234           3.75    1.91   0.00           0.57    6.23  \n",
       "11            3.23    1.71   0.00           0.49    5.43  \n",
       "80            3.25    1.49   0.01           0.48    5.22  \n",
       "..             ...     ...    ...            ...     ...  \n",
       "62            0.00    0.00   0.00           0.00    0.00  \n",
       "56            0.00    0.00   0.00           0.00    0.00  \n",
       "55            0.00    0.00   0.00           0.00    0.00  \n",
       "48            0.00    0.00   0.00           0.00    0.00  \n",
       "0             0.00    0.00   0.00           0.00    0.00  \n",
       "\n",
       "[242 rows x 9 columns]"
      ]
     },
     "execution_count": 91,
     "metadata": {},
     "output_type": "execute_result"
    }
   ],
   "source": [
    "# gamespot_w_sales.sort_values(\"Global\", ascending=False)\n",
    "gamespot_w_sales.sort_values(\"Global\", ascending=False)"
   ]
  },
  {
   "cell_type": "code",
   "execution_count": 48,
   "metadata": {},
   "outputs": [],
   "source": [
    "# making game names capitalized after using lower case to match them up\n",
    "df5.Game = [x.title() for x in df5['Game']]"
   ]
  },
  {
   "cell_type": "code",
   "execution_count": null,
   "metadata": {},
   "outputs": [],
   "source": [
    "#created top 20 count by games reviewed to find data based on genre and content rating\n",
    "\n",
    "top_20_games_by_review_count = metacritic_w_sales.sort_values('user_review_count', ascending = False).head(20)"
   ]
  },
  {
   "cell_type": "code",
   "execution_count": 61,
   "metadata": {},
   "outputs": [],
   "source": [
    "df6['Release date'] = [x[-4:] for x in df6['Release date']]"
   ]
  },
  {
   "cell_type": "code",
   "execution_count": 15,
   "metadata": {},
   "outputs": [],
   "source": [
    "df5 = pd.read_csv('gamespot_w_sales.csv', index_col = 0)"
   ]
  },
  {
   "cell_type": "code",
   "execution_count": 3,
   "metadata": {},
   "outputs": [],
   "source": [
    "metacritic_w_sales = pd.merge(df1, df2, on = 'Game')"
   ]
  },
  {
   "cell_type": "code",
   "execution_count": 4,
   "metadata": {},
   "outputs": [],
   "source": [
    "metacritic_w_sales = metacritic_w_sales.drop(columns = 'Publisher_x')\n",
    "metacritic_w_sales = metacritic_w_sales.rename(columns = {'Publisher_y': 'Publisher'})"
   ]
  },
  {
   "cell_type": "code",
   "execution_count": 7,
   "metadata": {},
   "outputs": [],
   "source": [
    "metacritic_w_sales = metacritic_w_sales.rename(columns = {'Global': 'global_unit_sales'})"
   ]
  },
  {
   "cell_type": "code",
   "execution_count": 8,
   "metadata": {},
   "outputs": [],
   "source": [
    "metacritic_w_sales['Game'] = [x.title() for x in metacritic_w_sales['Game']]"
   ]
  },
  {
   "cell_type": "code",
   "execution_count": 10,
   "metadata": {},
   "outputs": [],
   "source": [
    "metacritic_w_sales = metacritic_w_sales.drop(columns = ['Rest of World', 'Japan', 'Europe', 'North America', 'Year'])"
   ]
  },
  {
   "cell_type": "code",
   "execution_count": 11,
   "metadata": {},
   "outputs": [],
   "source": [
    "metacritic_w_sales['release_date'] = [x[-4:] for x in metacritic_w_sales['release_date']]"
   ]
  },
  {
   "cell_type": "code",
   "execution_count": 12,
   "metadata": {},
   "outputs": [],
   "source": [
    "metacritic_w_sales = metacritic_w_sales.rename(columns = {'release_date': 'release_year'})"
   ]
  },
  {
   "cell_type": "code",
   "execution_count": 14,
   "metadata": {},
   "outputs": [],
   "source": [
    "# used to take list of genres out of a string and turn them into a list\n",
    "import ast\n",
    "metacritic_w_sales['genres'] = metacritic_w_sales['genres'].apply(lambda x: ast.literal_eval(x))\n",
    "\n",
    "\n",
    "# looking throuhg all the individual lists of genres to see if certain key words \n",
    "# are in it for the popular genres\n",
    "\n",
    "metacritic_w_sales['Action/Adventure'] = [1 if ('Action' in (' '.join(x))) or ('Adventure' in (' '.join(x))) else 0 for x in metacritic_w_sales['genres']]\n",
    "metacritic_w_sales['RPG'] = [1 if 'Role-Playing' in (' '.join(x)) else 0 for x in metacritic_w_sales['genres']]\n",
    "metacritic_w_sales['Open-World'] = [1 if 'Open-World' in (' '.join(x)) else 0 for x in metacritic_w_sales['genres']]\n",
    "metacritic_w_sales['Shooter'] = [1 if 'Shooter' in (' '.join(x)) else 0 for x in metacritic_w_sales['genres']]\n",
    "metacritic_w_sales['Racing'] = [1 if 'Racing' in (' '.join(x)) else 0 for x in metacritic_w_sales['genres']]\n",
    "metacritic_w_sales['Sci-fi'] = [1 if 'Sci-Fi' in (' '.join(x)) else 0 for x in metacritic_w_sales['genres']]\n"
   ]
  },
  {
   "cell_type": "code",
   "execution_count": null,
   "metadata": {},
   "outputs": [],
   "source": [
    "# data obtained from the genre columns and used to find top 5 in 2 different sections\n",
    "\n",
    "# action/adventure = 250\n",
    "# RPG. = 36\n",
    "# Open-World = 24\n",
    "# Shooter = 61\n",
    "# Racing = 29\n",
    "\n",
    "# not including sports as that is already based off of a real life event and it does not make\n",
    "# sense to adapt that into any kind of movie\n",
    "\n",
    "\n",
    "# top 5 genres of top 20 games \n",
    "\n",
    "# action/adventure \n",
    "# shooter \n",
    "# rpg\n",
    "# open world\n",
    "# Racing\n"
   ]
  },
  {
   "cell_type": "code",
   "execution_count": 17,
   "metadata": {},
   "outputs": [],
   "source": [
    "df1.to_csv('metacritic_reviews.csv')\n",
    "df2.to_csv('game_sales.csv')\n",
    "df3.to_csv('gamespot_reviews.csv')\n",
    "metacritic_w_sales.to_csv('metacritic_w_sales.csv')\n",
    "#df5.to_csv('gamespot_w_sales.csv')\n",
    "df6.to_csv('box_office_video_game_movies.csv')"
   ]
  },
  {
   "cell_type": "code",
   "execution_count": null,
   "metadata": {},
   "outputs": [],
   "source": []
  }
 ],
 "metadata": {
  "kernelspec": {
   "display_name": "Python 3",
   "language": "python",
   "name": "python3"
  },
  "language_info": {
   "codemirror_mode": {
    "name": "ipython",
    "version": 3
   },
   "file_extension": ".py",
   "mimetype": "text/x-python",
   "name": "python",
   "nbconvert_exporter": "python",
   "pygments_lexer": "ipython3",
   "version": "3.7.6"
  }
 },
 "nbformat": 4,
 "nbformat_minor": 4
}
