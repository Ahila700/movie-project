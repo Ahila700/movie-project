{
 "cells": [
  {
   "cell_type": "code",
   "execution_count": null,
   "metadata": {},
   "outputs": [],
   "source": [
    "import requests \n",
    "import pandas as pd \n",
    "import json \n",
    "import numpy as np\n",
    "import pprint\n",
    "\n",
    "from bs4 import BeautifulSoup"
   ]
  },
  {
   "cell_type": "code",
   "execution_count": null,
   "metadata": {},
   "outputs": [],
   "source": [
    "header = {'user-agent': 'Mozilla/5.0 (Macintosh; Intel Mac OS X 10_15_4) AppleWebKit/537.36 (KHTML, like Gecko) Chrome/80.0.3987.163 Safari/537.36'}"
   ]
  },
  {
   "cell_type": "code",
   "execution_count": null,
   "metadata": {},
   "outputs": [],
   "source": [
    "api_key = 'ac80e2c89884220d09d71b0042b91aebc5f4cd1f'"
   ]
  },
  {
   "cell_type": "code",
   "execution_count": null,
   "metadata": {},
   "outputs": [],
   "source": [
    "url = 'https://www.gamespot.com/api/reviews/'"
   ]
  },
  {
   "cell_type": "code",
   "execution_count": null,
   "metadata": {},
   "outputs": [],
   "source": [
    "url_params = {\n",
    "    'api_key': api_key,\n",
    "    'format': 'json',\n",
    "    'limit': 100,\n",
    "            }\n",
    "\n",
    "\n",
    "# dict_keys(['publish_date', 'update_date', 'review_type', 'id', 'authors', 'title', 'image', 'score', 'deck', 'good', 'bad', 'body', 'lede', 'game', 'releases', 'site_detail_url'])"
   ]
  },
  {
   "cell_type": "code",
   "execution_count": null,
   "metadata": {},
   "outputs": [],
   "source": [
    "# running a functionto return all the request results as a json for each different url param\n",
    "\n",
    "def data_call(url_params):\n",
    "    response = requests.get(url,headers = header, params = url_params)\n",
    "    res_json = json.loads(response.text)\n",
    "    \n",
    "    return res_json['results']\n"
   ]
  },
  {
   "cell_type": "code",
   "execution_count": null,
   "metadata": {},
   "outputs": [],
   "source": [
    "columns = ['Title', 'Platform', 'Rating']\n",
    "tester = pd.DataFrame(columns=columns)\n",
    "tester.to_csv('gamespotdata.csv')"
   ]
  },
  {
   "cell_type": "code",
   "execution_count": null,
   "metadata": {},
   "outputs": [],
   "source": [
    "# function so that when we loop through the different endpoints in the api it will store them in a dictionary\n",
    "# then append an empty list of results with each dictionary entry so that it can easily be converted to a df\n",
    "\n",
    "results = []\n",
    "\n",
    "def parse_data(lst):\n",
    "    global results\n",
    "    for data in lst:\n",
    "        if 'releases' in data.keys():\n",
    "            for release in data['releases']:\n",
    "                if 'Xbox One' in release['platform']:\n",
    "                    obj = {'title':data['title'], 'platforms': release['platform'], 'score': data['score']}\n",
    "                    results.append(obj)\n",
    "    \n",
    "    return results       \n",
    "\n",
    "\n"
   ]
  },
  {
   "cell_type": "code",
   "execution_count": null,
   "metadata": {},
   "outputs": [],
   "source": [
    "cur = 0\n",
    "\n",
    "#set up a while loop to go through and grab the result \n",
    "\n",
    "# will be going 100 at a time as that is what is allowed by the api for each page, the 2 functions take all the\n",
    "# data from the page then put it into a list of dictionaries to convert to a df\n",
    "\n",
    "while cur < 15049:\n",
    "    url_params['offset'] = cur\n",
    "    info = data_call(url_params)\n",
    "    parse_data(info)\n",
    "    \n",
    "    cur += 100"
   ]
  },
  {
   "cell_type": "code",
   "execution_count": null,
   "metadata": {},
   "outputs": [],
   "source": [
    "df = pd.DataFrame(results)"
   ]
  },
  {
   "cell_type": "code",
   "execution_count": null,
   "metadata": {},
   "outputs": [],
   "source": []
  },
  {
   "cell_type": "code",
   "execution_count": null,
   "metadata": {},
   "outputs": [],
   "source": [
    "titles = []\n",
    "for title in df['title']:\n",
    "    titles.append(title.replace(' Review',''))\n",
    "        "
   ]
  },
  {
   "cell_type": "code",
   "execution_count": null,
   "metadata": {},
   "outputs": [],
   "source": [
    "df.drop(columns='title', inplace=True)"
   ]
  },
  {
   "cell_type": "code",
   "execution_count": null,
   "metadata": {},
   "outputs": [],
   "source": [
    "df.drop(columns='platforms',inplace=True)"
   ]
  },
  {
   "cell_type": "code",
   "execution_count": null,
   "metadata": {},
   "outputs": [],
   "source": [
    "df['Title'].unique()"
   ]
  },
  {
   "cell_type": "code",
   "execution_count": null,
   "metadata": {},
   "outputs": [],
   "source": [
    "df = df.drop_duplicates('Title')"
   ]
  },
  {
   "cell_type": "code",
   "execution_count": null,
   "metadata": {},
   "outputs": [],
   "source": [
    "df.to_csv('gamespot_reviews.csv')"
   ]
  },
  {
   "cell_type": "code",
   "execution_count": null,
   "metadata": {},
   "outputs": [],
   "source": []
  }
 ],
 "metadata": {
  "kernelspec": {
   "display_name": "Python 3",
   "language": "python",
   "name": "python3"
  },
  "language_info": {
   "codemirror_mode": {
    "name": "ipython",
    "version": 3
   },
   "file_extension": ".py",
   "mimetype": "text/x-python",
   "name": "python",
   "nbconvert_exporter": "python",
   "pygments_lexer": "ipython3",
   "version": "3.7.6"
  }
 },
 "nbformat": 4,
 "nbformat_minor": 4
}
