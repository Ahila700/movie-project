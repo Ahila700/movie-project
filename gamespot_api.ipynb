{
 "cells": [
  {
   "cell_type": "code",
   "execution_count": 1,
   "metadata": {},
   "outputs": [],
   "source": [
    "import requests \n",
    "import pandas as pd \n",
    "import json \n",
    "import numpy as np\n",
    "import pprint\n",
    "\n",
    "from bs4 import BeautifulSoup"
   ]
  },
  {
   "cell_type": "code",
   "execution_count": 2,
   "metadata": {},
   "outputs": [],
   "source": [
    "header = {'user-agent': 'Mozilla/5.0 (Macintosh; Intel Mac OS X 10_15_4) AppleWebKit/537.36 (KHTML, like Gecko) Chrome/80.0.3987.163 Safari/537.36'}"
   ]
  },
  {
   "cell_type": "code",
   "execution_count": 3,
   "metadata": {},
   "outputs": [],
   "source": [
    "api_key = 'ac80e2c89884220d09d71b0042b91aebc5f4cd1f'"
   ]
  },
  {
   "cell_type": "code",
   "execution_count": 4,
   "metadata": {},
   "outputs": [],
   "source": [
    "url = 'https://www.gamespot.com/api/reviews/'"
   ]
  },
  {
   "cell_type": "code",
   "execution_count": 5,
   "metadata": {},
   "outputs": [],
   "source": [
    "url_params = {\n",
    "    'api_key': api_key,\n",
    "    'format': 'json',\n",
    "    'limit': 100,\n",
    "            }\n",
    "\n",
    "\n",
    "# dict_keys(['publish_date', 'update_date', 'review_type', 'id', 'authors', 'title', 'image', 'score', 'deck', 'good', 'bad', 'body', 'lede', 'game', 'releases', 'site_detail_url'])"
   ]
  },
  {
   "cell_type": "code",
   "execution_count": 7,
   "metadata": {},
   "outputs": [
    {
     "name": "stdout",
     "output_type": "stream",
     "text": [
      "{'publish_date': '1996-05-01 12:00:00', 'update_date': '1996-05-01 12:00:00', 'review_type': 'primary', 'id': 2531694, 'authors': 'Jeff Sengstack', 'title': 'Under a Killing Moon Review', 'image': {'square_tiny': 'https://gamespot1.cbsistatic.com/uploads/square_tiny/469/4693985/2305502-default-art--kubrick.jpg', 'screen_tiny': 'https://gamespot1.cbsistatic.com/uploads/screen_tiny/469/4693985/2305502-default-art--kubrick.jpg', 'square_small': 'https://gamespot1.cbsistatic.com/uploads/square_small/469/4693985/2305502-default-art--kubrick.jpg', 'original': 'https://gamespot1.cbsistatic.com/uploads/original/469/4693985/2305502-default-art--kubrick.jpg'}, 'score': '6.9', 'deck': 'Under a Killing Moon is an excellently wrapped package with some less than compelling contents.', 'good': '', 'bad': '', 'body': '<p>Under a Killing Moon (UAKM) is an excellently wrapped package with some less than compelling contents.</p>  <p>You play Tex Murphy, the bumbling, disheveled detective from two previous Access adventures, Mean Streets and Martian Memorandum. You wander at will through his sharply detailed 3-D environment, examining objects, opening drawers, and talking to characters. Tex\\'s gaming world is huge, ranging from his cluttered office and nearby dark alleys to a glittering mansion and a gargantuan space station. Your goal? Save the world. You\\'ll accomplish this by exploring (high and low), gathering clues and items, solving typical adventure puzzles, and conducting interminable interviews. Experienced adventurers will find that the gaming elements are moderately challenging and if you do run into a brick wall, UAKM has an easy and effective built-in hint system. The game\\'s install process sets a standard for ease-of-use that is thankfully becoming more common.  Problems arise in the acting and dialogue. Both are uniformly stilted. </p>  <p>Access hired some \"name\" actors to lend UAKM some Hollywood cachet, but they have only minor roles and offer less than stellar performances. Most of the acting was done by Access employees&#151;and it shows. Dialogue is more interruptible than interactive since you select questions and listen to responses one at a time. And the storyline, while complex and deep, unravels awkwardly. Nevertheless, the overall experience is entertaining and full of surprises. Access has created a clever story-telling engine; it\\'s the ingredients that need work. A little more time spent on designing a creative story and finding qualified personnel to portray the game\\'s many characters would have gone a long way.</p>', 'lede': 'Under a Killing Moon is an excellently wrapped package with some less than compelling contents.', 'game': {'id': 2230, 'name': 'Under a Killing Moon', 'api_detail_url': 'https://www.gamespot.com/api/games/?filter=id%3A2230', 'site_detail_url': 'https://www.gamespot.com/under-a-killing-moon/'}, 'releases': [{'upc': None, 'distribution_type': 'Retail', 'id': 8526, 'name': 'Under a Killing Moon', 'region': 'Europe', 'platform': 'PC', 'api_detail_url': 'https://www.gamespot.com/api/releases/?filter=id%3A8526'}, {'upc': '081192712049', 'distribution_type': 'Retail', 'id': 8525, 'name': 'Under a Killing Moon', 'region': 'North America', 'platform': 'PC', 'api_detail_url': 'https://www.gamespot.com/api/releases/?filter=id%3A8525'}], 'site_detail_url': 'https://www.gamespot.com/reviews/under-a-killing-moon-review/1900-2531694/'}\n"
     ]
    }
   ],
   "source": [
    "def data_call(url_params):\n",
    "    response = requests.get(url,headers = header, params = url_params)\n",
    "    res_json = json.loads(response.text)\n",
    "    \n",
    "    return res_json['results']\n",
    "\n",
    "\n",
    "\n",
    "text = data_call(url_params)\n",
    "print(text[0])\n"
   ]
  },
  {
   "cell_type": "code",
   "execution_count": 8,
   "metadata": {},
   "outputs": [],
   "source": [
    "columns = ['Title', 'Platform', 'Rating']\n",
    "tester = pd.DataFrame(columns=columns)\n",
    "tester.to_csv('gamespotdata.csv')"
   ]
  },
  {
   "cell_type": "code",
   "execution_count": 9,
   "metadata": {},
   "outputs": [
    {
     "name": "stdout",
     "output_type": "stream",
     "text": [
      "100\n"
     ]
    }
   ],
   "source": [
    "print(len(text))"
   ]
  },
  {
   "cell_type": "code",
   "execution_count": 10,
   "metadata": {},
   "outputs": [],
   "source": [
    "results = []\n",
    "def parse_data(lst):\n",
    "    for data in lst:\n",
    "        if 'releases' in data.keys():\n",
    "            for release in data['releases']:\n",
    "                if 'Xbox One' in release['platform']:\n",
    "                    obj = {'title':data['title'], 'platforms': release['platform'], 'score': data['score']}\n",
    "                    results.append(obj)\n",
    "    \n",
    "    return results       \n",
    "\n",
    "\n"
   ]
  },
  {
   "cell_type": "code",
   "execution_count": 11,
   "metadata": {},
   "outputs": [
    {
     "data": {
      "text/plain": [
       "[]"
      ]
     },
     "execution_count": 11,
     "metadata": {},
     "output_type": "execute_result"
    }
   ],
   "source": [
    "results"
   ]
  },
  {
   "cell_type": "code",
   "execution_count": 13,
   "metadata": {},
   "outputs": [],
   "source": [
    "cur = 0\n",
    "\n",
    "#set up a while loop to go through and grab the result \n",
    "while cur < 15049:\n",
    "    url_params['offset'] = cur\n",
    "    info = data_call(url_params)\n",
    "    parse_data(info)\n",
    "    \n",
    "    cur += 100"
   ]
  },
  {
   "cell_type": "code",
   "execution_count": 61,
   "metadata": {},
   "outputs": [],
   "source": [
    "df = pd.DataFrame(results)"
   ]
  },
  {
   "cell_type": "code",
   "execution_count": 67,
   "metadata": {},
   "outputs": [],
   "source": [
    "titles = []\n",
    "for title in df['title']:\n",
    "    titles.append(title.replace(' Review',''))\n",
    "        "
   ]
  },
  {
   "cell_type": "code",
   "execution_count": 69,
   "metadata": {},
   "outputs": [],
   "source": [
    "df['Title'] = titles"
   ]
  },
  {
   "cell_type": "code",
   "execution_count": 73,
   "metadata": {},
   "outputs": [],
   "source": [
    "df.drop(columns='title', inplace=True)"
   ]
  },
  {
   "cell_type": "code",
   "execution_count": 12,
   "metadata": {},
   "outputs": [
    {
     "ename": "NameError",
     "evalue": "name 'df' is not defined",
     "output_type": "error",
     "traceback": [
      "\u001b[0;31m---------------------------------------------------------------------------\u001b[0m",
      "\u001b[0;31mNameError\u001b[0m                                 Traceback (most recent call last)",
      "\u001b[0;32m<ipython-input-12-00cf07b74dcd>\u001b[0m in \u001b[0;36m<module>\u001b[0;34m\u001b[0m\n\u001b[0;32m----> 1\u001b[0;31m \u001b[0mdf\u001b[0m\u001b[0;34m\u001b[0m\u001b[0;34m\u001b[0m\u001b[0m\n\u001b[0m",
      "\u001b[0;31mNameError\u001b[0m: name 'df' is not defined"
     ]
    }
   ],
   "source": [
    "df"
   ]
  },
  {
   "cell_type": "code",
   "execution_count": null,
   "metadata": {},
   "outputs": [],
   "source": []
  }
 ],
 "metadata": {
  "kernelspec": {
   "display_name": "Python 3",
   "language": "python",
   "name": "python3"
  },
  "language_info": {
   "codemirror_mode": {
    "name": "ipython",
    "version": 3
   },
   "file_extension": ".py",
   "mimetype": "text/x-python",
   "name": "python",
   "nbconvert_exporter": "python",
   "pygments_lexer": "ipython3",
   "version": "3.7.6"
  }
 },
 "nbformat": 4,
 "nbformat_minor": 4
}
